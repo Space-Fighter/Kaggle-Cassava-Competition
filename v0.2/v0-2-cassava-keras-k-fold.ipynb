{
 "cells": [
  {
   "cell_type": "markdown",
   "metadata": {
    "papermill": {
     "duration": 0.034376,
     "end_time": "2021-01-08T12:17:12.706908",
     "exception": false,
     "start_time": "2021-01-08T12:17:12.672532",
     "status": "completed"
    },
    "tags": []
   },
   "source": [
    "# 1. Imports\n",
    "Nothing interesting here. 💤💤💤💤💤💤💤💤💤💤💤💤💤💤💤 ok stop sleeping there is also the rest of the notebook to walkthrough😜"
   ]
  },
  {
   "cell_type": "code",
   "execution_count": 1,
   "metadata": {
    "execution": {
     "iopub.execute_input": "2021-01-08T12:17:12.774773Z",
     "iopub.status.busy": "2021-01-08T12:17:12.774078Z",
     "iopub.status.idle": "2021-01-08T12:17:23.456164Z",
     "shell.execute_reply": "2021-01-08T12:17:23.456682Z"
    },
    "papermill": {
     "duration": 10.719197,
     "end_time": "2021-01-08T12:17:23.456883",
     "exception": false,
     "start_time": "2021-01-08T12:17:12.737686",
     "status": "completed"
    },
    "tags": []
   },
   "outputs": [
    {
     "name": "stdout",
     "output_type": "stream",
     "text": [
      "\u001b[33mWARNING: You are using pip version 20.3.1; however, version 20.3.3 is available.\r\n",
      "You should consider upgrading via the '/opt/conda/bin/python3.7 -m pip install --upgrade pip' command.\u001b[0m\r\n"
     ]
    }
   ],
   "source": [
    "!pip install --quiet efficientnet"
   ]
  },
  {
   "cell_type": "code",
   "execution_count": 2,
   "metadata": {
    "_cell_guid": "b1076dfc-b9ad-4769-8c92-a6c4dae69d19",
    "_uuid": "8f2839f25d086af736a60e9eeb907d3b93b6e0e5",
    "execution": {
     "iopub.execute_input": "2021-01-08T12:17:23.531515Z",
     "iopub.status.busy": "2021-01-08T12:17:23.530765Z",
     "iopub.status.idle": "2021-01-08T12:17:31.356271Z",
     "shell.execute_reply": "2021-01-08T12:17:31.354879Z"
    },
    "papermill": {
     "duration": 7.866921,
     "end_time": "2021-01-08T12:17:31.356417",
     "exception": false,
     "start_time": "2021-01-08T12:17:23.489496",
     "status": "completed"
    },
    "tags": []
   },
   "outputs": [],
   "source": [
    "# Efficientnet stuff\n",
    "import efficientnet.tfkeras as efn\n",
    "# Tensorflow Stuff\n",
    "from tensorflow.keras.models import Sequential\n",
    "from tensorflow.keras.layers import Dense, Conv2D, MaxPooling2D, Flatten, Input, Dropout, GlobalAveragePooling2D\n",
    "from tensorflow.keras.models import Model\n",
    "from tensorflow.keras.optimizers import Adam\n",
    "from tensorflow.keras.callbacks import EarlyStopping, TensorBoard, ReduceLROnPlateau\n",
    "import tensorflow as tf\n",
    "import tensorflow.keras.backend as K\n",
    "# Data Splitting Stuff\n",
    "from sklearn.model_selection import train_test_split\n",
    "from sklearn.model_selection import StratifiedKFold, KFold\n",
    "# Image Handler Stuff\n",
    "import matplotlib.pyplot as plt\n",
    "import cv2\n",
    "# Array Handler Stuff\n",
    "import numpy as np\n",
    "# Other stuff\n",
    "import os\n",
    "from tqdm import tqdm as tqdm\n",
    "from functools import partial\n",
    "import math\n",
    "import re"
   ]
  },
  {
   "cell_type": "markdown",
   "metadata": {
    "papermill": {
     "duration": 0.030981,
     "end_time": "2021-01-08T12:17:31.418770",
     "exception": false,
     "start_time": "2021-01-08T12:17:31.387789",
     "status": "completed"
    },
    "tags": []
   },
   "source": [
    "Bunccha good ideas - \n",
    "\n",
    "https://www.kaggle.com/tuckerarrants/cassava-tensorflow-starter-training on mixup\n",
    "https://www.kaggle.com/dimitreoliveira/cassava-leaf-supervised-contrastive-learning on contrastive learning\n",
    "\n",
    "Good article - \n",
    "https://keras.io/examples/vision/image_classification_efficientnet_fine_tuning/#keras-implementation-of-efficientnet"
   ]
  },
  {
   "cell_type": "markdown",
   "metadata": {
    "_cell_guid": "79c7e3d0-c299-4dcb-8224-4455121ee9b0",
    "_uuid": "d629ff2d2480ee46fbb7e2d37f6b5fab8052498a",
    "collapsed": true,
    "papermill": {
     "duration": 0.030882,
     "end_time": "2021-01-08T12:17:31.480949",
     "exception": false,
     "start_time": "2021-01-08T12:17:31.450067",
     "status": "completed"
    },
    "tags": []
   },
   "source": [
    "# 2. TPU SETUP\n",
    "\n",
    "Here are some excellent notebooks to refer - \n",
    "https://www.kaggle.com/awsaf49/efficientnetb6-512-cutmixupdropout-tpu-train\n",
    "\n",
    "https://www.kaggle.com/jessemostipak/getting-started-tpus-cassava-leaf-disease/data\n",
    "\n",
    "https://www.kaggle.com/dimitreoliveira/cassava-leaf-disease-training-with-tpu-v2-pods/notebook\n",
    "\n",
    "https://www.kaggle.com/dimitreoliveira/cassava-leaf-disease-tpu-tensorflow-training\n",
    "\n",
    "Other good notebooks but on gpu - \n",
    "\n",
    "https://www.kaggle.com/frlemarchand/efficientnet-aug-tf-keras-for-cassava-diseases"
   ]
  },
  {
   "cell_type": "code",
   "execution_count": 3,
   "metadata": {
    "execution": {
     "iopub.execute_input": "2021-01-08T12:17:31.553069Z",
     "iopub.status.busy": "2021-01-08T12:17:31.552233Z",
     "iopub.status.idle": "2021-01-08T12:17:31.565130Z",
     "shell.execute_reply": "2021-01-08T12:17:31.565827Z"
    },
    "papermill": {
     "duration": 0.053734,
     "end_time": "2021-01-08T12:17:31.566066",
     "exception": false,
     "start_time": "2021-01-08T12:17:31.512332",
     "status": "completed"
    },
    "tags": []
   },
   "outputs": [
    {
     "name": "stdout",
     "output_type": "stream",
     "text": [
      "Number of replicas: 1\n"
     ]
    }
   ],
   "source": [
    "try:\n",
    "    tpu = tf.distribute.cluster_resolver.TPUClusterResolver()\n",
    "    print('Device:', tpu.master())\n",
    "    tf.config.experimental_connect_to_cluster(tpu)\n",
    "    tf.tpu.experimental.initialize_tpu_system(tpu)\n",
    "    strategy = tf.distribute.experimental.TPUStrategy(tpu)\n",
    "except:\n",
    "    strategy = tf.distribute.get_strategy()\n",
    "replicas = strategy.num_replicas_in_sync\n",
    "print('Number of replicas:', strategy.num_replicas_in_sync)"
   ]
  },
  {
   "cell_type": "markdown",
   "metadata": {
    "papermill": {
     "duration": 0.032419,
     "end_time": "2021-01-08T12:17:31.631559",
     "exception": false,
     "start_time": "2021-01-08T12:17:31.599140",
     "status": "completed"
    },
    "tags": []
   },
   "source": [
    "Some setup variables\n",
    "\n",
    "The GCS Path thingy stuff explaination-\n",
    "\n",
    "**TPUs read data directly from Google Cloud Storage (GCS), so we actually need to copy our dataset to a GCS 'bucket' that is near or 'co-located' with the TPU. The below chunk of code accomplishes this using the handy KaggleDatasets:**"
   ]
  },
  {
   "cell_type": "code",
   "execution_count": 4,
   "metadata": {
    "execution": {
     "iopub.execute_input": "2021-01-08T12:17:31.704267Z",
     "iopub.status.busy": "2021-01-08T12:17:31.703528Z",
     "iopub.status.idle": "2021-01-08T12:17:32.163171Z",
     "shell.execute_reply": "2021-01-08T12:17:32.162361Z"
    },
    "papermill": {
     "duration": 0.499152,
     "end_time": "2021-01-08T12:17:32.163343",
     "exception": false,
     "start_time": "2021-01-08T12:17:31.664191",
     "status": "completed"
    },
    "tags": []
   },
   "outputs": [
    {
     "name": "stdout",
     "output_type": "stream",
     "text": [
      "gs://kds-be94128ce773ab53f24c9b0a2aced4ad5bde5fc04d38f200b1c23181\n",
      "16\n"
     ]
    }
   ],
   "source": [
    "AUTOTUNE = tf.data.experimental.AUTOTUNE\n",
    "BATCH_SIZE = 16 * replicas\n",
    "IMAGE_SIZE = [512, 512]\n",
    "HEIGHT = 512\n",
    "WIDTH = 512\n",
    "CHANNELS = 3\n",
    "CLASSES = ['0', '1', '2', '3', '4']\n",
    "from kaggle_datasets import KaggleDatasets\n",
    "GCS_PATH = KaggleDatasets().get_gcs_path()\n",
    "print(GCS_PATH)\n",
    "print(BATCH_SIZE)"
   ]
  },
  {
   "cell_type": "markdown",
   "metadata": {
    "papermill": {
     "duration": 0.031732,
     "end_time": "2021-01-08T12:17:32.227547",
     "exception": false,
     "start_time": "2021-01-08T12:17:32.195815",
     "status": "completed"
    },
    "tags": []
   },
   "source": [
    "# 3. Loading in our data\n",
    "\n",
    "Some excellent notebooks on tfrecords\n",
    "\n",
    "https://www.kaggle.com/ryanholbrook/tfrecords-basics\n",
    "\n",
    "We are gonna load our data via tfrecords. Now tfrecords as tensorflow suggests is best to feed data to a TPU. So we are gonna go with that.🙂"
   ]
  },
  {
   "cell_type": "markdown",
   "metadata": {
    "papermill": {
     "duration": 0.031566,
     "end_time": "2021-01-08T12:17:32.291308",
     "exception": false,
     "start_time": "2021-01-08T12:17:32.259742",
     "status": "completed"
    },
    "tags": []
   },
   "source": [
    "### 1. Decode Image Function and Stuff\n",
    "The following is a decoding function what it does is takes in an image in jpg form and converts it into an array. Unlike the numpy stuff you know.\n",
    "Then the cast thingy converts the pixel thingies into floats so we can divide by a float that is 255.0 to normalize the stuff and all. You know normalization helps in training lol😂."
   ]
  },
  {
   "cell_type": "code",
   "execution_count": 5,
   "metadata": {
    "execution": {
     "iopub.execute_input": "2021-01-08T12:17:32.365096Z",
     "iopub.status.busy": "2021-01-08T12:17:32.364217Z",
     "iopub.status.idle": "2021-01-08T12:17:32.367320Z",
     "shell.execute_reply": "2021-01-08T12:17:32.366743Z"
    },
    "papermill": {
     "duration": 0.043504,
     "end_time": "2021-01-08T12:17:32.367545",
     "exception": false,
     "start_time": "2021-01-08T12:17:32.324041",
     "status": "completed"
    },
    "tags": []
   },
   "outputs": [],
   "source": [
    "def decode_image(image):\n",
    "    image = tf.image.decode_jpeg(image, channels=3)\n",
    "    image = tf.cast(image, tf.float32) / 255.0\n",
    "    image = tf.reshape(image, [*IMAGE_SIZE, 3])\n",
    "    return image"
   ]
  },
  {
   "cell_type": "markdown",
   "metadata": {
    "papermill": {
     "duration": 0.033097,
     "end_time": "2021-01-08T12:17:32.437658",
     "exception": false,
     "start_time": "2021-01-08T12:17:32.404561",
     "status": "completed"
    },
    "tags": []
   },
   "source": [
    "Well if you do not want to spend alot of time in understanding how tfrecords work just pick up other people's code use that to load data and then train and move forward.😜"
   ]
  },
  {
   "cell_type": "markdown",
   "metadata": {
    "papermill": {
     "duration": 0.031908,
     "end_time": "2021-01-08T12:17:32.501956",
     "exception": false,
     "start_time": "2021-01-08T12:17:32.470048",
     "status": "completed"
    },
    "tags": []
   },
   "source": [
    "### 2. Read tfrecord\n",
    "\n",
    "Basically reads our tfrecord file and handles both for labelled and non labelled images."
   ]
  },
  {
   "cell_type": "code",
   "execution_count": 6,
   "metadata": {
    "execution": {
     "iopub.execute_input": "2021-01-08T12:17:32.577822Z",
     "iopub.status.busy": "2021-01-08T12:17:32.570801Z",
     "iopub.status.idle": "2021-01-08T12:17:32.581501Z",
     "shell.execute_reply": "2021-01-08T12:17:32.580783Z"
    },
    "papermill": {
     "duration": 0.046478,
     "end_time": "2021-01-08T12:17:32.581616",
     "exception": false,
     "start_time": "2021-01-08T12:17:32.535138",
     "status": "completed"
    },
    "tags": []
   },
   "outputs": [],
   "source": [
    "def read_tfrecord(example, labeled):\n",
    "    tfrecord_format = {\n",
    "        \"image\": tf.io.FixedLenFeature([], tf.string),\n",
    "        \"target\": tf.io.FixedLenFeature([], tf.int64)\n",
    "    } if labeled else {\n",
    "        \"image\": tf.io.FixedLenFeature([], tf.string),\n",
    "        \"image_name\": tf.io.FixedLenFeature([], tf.string)\n",
    "    }\n",
    "    example = tf.io.parse_single_example(example, tfrecord_format)\n",
    "    image = decode_image(example['image'])\n",
    "    if labeled:\n",
    "        label = tf.cast(example['target'], tf.int32)\n",
    "        return image, label\n",
    "    idnum = example['image_name']\n",
    "    return image, idnum"
   ]
  },
  {
   "cell_type": "markdown",
   "metadata": {
    "papermill": {
     "duration": 0.032493,
     "end_time": "2021-01-08T12:17:32.646970",
     "exception": false,
     "start_time": "2021-01-08T12:17:32.614477",
     "status": "completed"
    },
    "tags": []
   },
   "source": [
    "### 3. Load Dataset from filenames Function\n",
    "This just loads in data and thats all we need to know and this only handles for labelled images."
   ]
  },
  {
   "cell_type": "code",
   "execution_count": 7,
   "metadata": {
    "execution": {
     "iopub.execute_input": "2021-01-08T12:17:32.721212Z",
     "iopub.status.busy": "2021-01-08T12:17:32.720496Z",
     "iopub.status.idle": "2021-01-08T12:17:32.724189Z",
     "shell.execute_reply": "2021-01-08T12:17:32.723564Z"
    },
    "papermill": {
     "duration": 0.043963,
     "end_time": "2021-01-08T12:17:32.724316",
     "exception": false,
     "start_time": "2021-01-08T12:17:32.680353",
     "status": "completed"
    },
    "tags": []
   },
   "outputs": [],
   "source": [
    "def load_dataset(filenames, labeled=True, ordered=False):\n",
    "    ignore_order = tf.data.Options()\n",
    "    if not ordered:\n",
    "        ignore_order.experimental_deterministic = False # disable order, increase speed\n",
    "    dataset = tf.data.TFRecordDataset(filenames, num_parallel_reads=AUTOTUNE) # automatically interleaves reads from multiple files\n",
    "    dataset = dataset.with_options(ignore_order) # uses data as soon as it streams in, rather than in its original order\n",
    "    dataset = dataset.map(partial(read_tfrecord, labeled=labeled), num_parallel_calls=AUTOTUNE)\n",
    "    return dataset"
   ]
  },
  {
   "cell_type": "markdown",
   "metadata": {
    "papermill": {
     "duration": 0.033126,
     "end_time": "2021-01-08T12:17:32.790660",
     "exception": false,
     "start_time": "2021-01-08T12:17:32.757534",
     "status": "completed"
    },
    "tags": []
   },
   "source": [
    "### 4. Make a list of train_filenames and val_filenames\n",
    "\n",
    "The ```tf.io.gfile.glob``` is basically reading GCS path that is the GCS path to our Cassava competition data in which we have the train tfrecords. And then using the ```tf.io.gfile.glob``` we are getting a list of paths to our GCS path to the tfrecord where our TPU is located and then on top of that we use sklearns ```train_test_split``` to get buncha filenames for training and validation which we are later gonna load."
   ]
  },
  {
   "cell_type": "code",
   "execution_count": 8,
   "metadata": {
    "execution": {
     "iopub.execute_input": "2021-01-08T12:17:32.863129Z",
     "iopub.status.busy": "2021-01-08T12:17:32.862327Z",
     "iopub.status.idle": "2021-01-08T12:17:33.297642Z",
     "shell.execute_reply": "2021-01-08T12:17:33.296981Z"
    },
    "papermill": {
     "duration": 0.473899,
     "end_time": "2021-01-08T12:17:33.297755",
     "exception": false,
     "start_time": "2021-01-08T12:17:32.823856",
     "status": "completed"
    },
    "tags": []
   },
   "outputs": [
    {
     "name": "stdout",
     "output_type": "stream",
     "text": [
      "16\n"
     ]
    }
   ],
   "source": [
    "DATA = tf.io.gfile.glob(GCS_PATH + '/train_tfrecords/ld_train*.tfrec')\n",
    "print(len(DATA)) # Note that this is the number of tfrecord files which have actually a number of images in them"
   ]
  },
  {
   "cell_type": "markdown",
   "metadata": {
    "papermill": {
     "duration": 0.032801,
     "end_time": "2021-01-08T12:17:33.363791",
     "exception": false,
     "start_time": "2021-01-08T12:17:33.330990",
     "status": "completed"
    },
    "tags": []
   },
   "source": [
    "### 5. The Augmentation Functions - \n",
    "\n",
    "The following amazing function has been taken from this notebook - \n",
    "https://www.kaggle.com/dimitreoliveira/cassava-leaf-disease-training-with-tpu-v2-pods\n",
    "\n",
    "Basically the vars at the starting like rotation, spatial p_pixel1 and so on are equating to a random number between 0 and 1.0 so what we get is a random number then the below ifs and elses are like if we get a number in the if's range to the var corresponding to its augmentation name then great we apply that augmentation. This brings in randomicity in the augmentations applied.\n",
    "😀"
   ]
  },
  {
   "cell_type": "code",
   "execution_count": 9,
   "metadata": {
    "execution": {
     "iopub.execute_input": "2021-01-08T12:17:33.441776Z",
     "iopub.status.busy": "2021-01-08T12:17:33.441071Z",
     "iopub.status.idle": "2021-01-08T12:17:33.460046Z",
     "shell.execute_reply": "2021-01-08T12:17:33.460622Z"
    },
    "papermill": {
     "duration": 0.064087,
     "end_time": "2021-01-08T12:17:33.460771",
     "exception": false,
     "start_time": "2021-01-08T12:17:33.396684",
     "status": "completed"
    },
    "tags": []
   },
   "outputs": [],
   "source": [
    "def data_augment(image, label):\n",
    "    p_rotation = tf.random.uniform([], 0, 1.0, dtype=tf.float32)\n",
    "    p_spatial = tf.random.uniform([], 0, 1.0, dtype=tf.float32)\n",
    "    p_rotate = tf.random.uniform([], 0, 1.0, dtype=tf.float32)\n",
    "    p_pixel_1 = tf.random.uniform([], 0, 1.0, dtype=tf.float32)\n",
    "    p_pixel_2 = tf.random.uniform([], 0, 1.0, dtype=tf.float32)\n",
    "    p_pixel_3 = tf.random.uniform([], 0, 1.0, dtype=tf.float32)\n",
    "    p_shear = tf.random.uniform([], 0, 1.0, dtype=tf.float32)\n",
    "    p_crop = tf.random.uniform([], 0, 1.0, dtype=tf.float32)\n",
    "    p_cutout = tf.random.uniform([], 0, 1.0, dtype=tf.float32)\n",
    "    \n",
    "    # Shear\n",
    "    if p_shear > .2:\n",
    "        if p_shear > .6:\n",
    "            image = transform_shear(image, HEIGHT, shear=20.)\n",
    "        else:\n",
    "            image = transform_shear(image, HEIGHT, shear=-20.)\n",
    "            \n",
    "    # Rotation\n",
    "    if p_rotation > .2:\n",
    "        if p_rotation > .6:\n",
    "            image = transform_rotation(image, HEIGHT, rotation=45.)\n",
    "        else:\n",
    "            image = transform_rotation(image, HEIGHT, rotation=-45.)\n",
    "            \n",
    "    # Flips\n",
    "    image = tf.image.random_flip_left_right(image)\n",
    "    image = tf.image.random_flip_up_down(image)\n",
    "    if p_spatial > .75:\n",
    "        image = tf.image.transpose(image)\n",
    "        \n",
    "    # Rotates\n",
    "    if p_rotate > .75:\n",
    "        image = tf.image.rot90(image, k=3) # rotate 270º\n",
    "    elif p_rotate > .5:\n",
    "        image = tf.image.rot90(image, k=2) # rotate 180º\n",
    "    elif p_rotate > .25:\n",
    "        image = tf.image.rot90(image, k=1) # rotate 90º\n",
    "        \n",
    "    # Pixel-level transforms\n",
    "    if p_pixel_1 >= .4:\n",
    "        image = tf.image.random_saturation(image, lower=.7, upper=1.3)\n",
    "    if p_pixel_2 >= .4:\n",
    "        image = tf.image.random_contrast(image, lower=.8, upper=1.2)\n",
    "    if p_pixel_3 >= .4:\n",
    "        image = tf.image.random_brightness(image, max_delta=.1)\n",
    "        \n",
    "    # Crops\n",
    "    if p_crop > .6:\n",
    "        if p_crop > .9:\n",
    "            image = tf.image.central_crop(image, central_fraction=.5)\n",
    "        elif p_crop > .8:\n",
    "            image = tf.image.central_crop(image, central_fraction=.6)\n",
    "        elif p_crop > .7:\n",
    "            image = tf.image.central_crop(image, central_fraction=.7)\n",
    "        else:\n",
    "            image = tf.image.central_crop(image, central_fraction=.8)\n",
    "    elif p_crop > .3:\n",
    "        crop_size = tf.random.uniform([], int(HEIGHT*.6), HEIGHT, dtype=tf.int32)\n",
    "        image = tf.image.random_crop(image, size=[crop_size, crop_size, CHANNELS])\n",
    "            \n",
    "    image = tf.image.resize(image, size=[HEIGHT, WIDTH])\n",
    "\n",
    "    if p_cutout > .5:\n",
    "        image = data_augment_cutout(image)\n",
    "        \n",
    "    return image, label"
   ]
  },
  {
   "cell_type": "markdown",
   "metadata": {
    "papermill": {
     "duration": 0.033286,
     "end_time": "2021-01-08T12:17:33.527557",
     "exception": false,
     "start_time": "2021-01-08T12:17:33.494271",
     "status": "completed"
    },
    "tags": []
   },
   "source": [
    "#### Helper functions for the augmentation function -\n"
   ]
  },
  {
   "cell_type": "code",
   "execution_count": 10,
   "metadata": {
    "execution": {
     "iopub.execute_input": "2021-01-08T12:17:33.599251Z",
     "iopub.status.busy": "2021-01-08T12:17:33.598469Z",
     "iopub.status.idle": "2021-01-08T12:17:33.645340Z",
     "shell.execute_reply": "2021-01-08T12:17:33.645898Z"
    },
    "papermill": {
     "duration": 0.083822,
     "end_time": "2021-01-08T12:17:33.646071",
     "exception": false,
     "start_time": "2021-01-08T12:17:33.562249",
     "status": "completed"
    },
    "tags": []
   },
   "outputs": [],
   "source": [
    "# data augmentation @cdeotte kernel: https://www.kaggle.com/cdeotte/rotation-augmentation-gpu-tpu-0-96\n",
    "def transform_rotation(image, height, rotation):\n",
    "    # input image - is one image of size [dim,dim,3] not a batch of [b,dim,dim,3]\n",
    "    # output - image randomly rotated\n",
    "    DIM = height\n",
    "    XDIM = DIM%2 #fix for size 331\n",
    "    \n",
    "    rotation = rotation * tf.random.uniform([1],dtype='float32')\n",
    "    # CONVERT DEGREES TO RADIANS\n",
    "    rotation = math.pi * rotation / 180.\n",
    "    \n",
    "    # ROTATION MATRIX\n",
    "    c1 = tf.math.cos(rotation)\n",
    "    s1 = tf.math.sin(rotation)\n",
    "    one = tf.constant([1],dtype='float32')\n",
    "    zero = tf.constant([0],dtype='float32')\n",
    "    rotation_matrix = tf.reshape(tf.concat([c1,s1,zero, -s1,c1,zero, zero,zero,one],axis=0),[3,3])\n",
    "\n",
    "    # LIST DESTINATION PIXEL INDICES\n",
    "    x = tf.repeat( tf.range(DIM//2,-DIM//2,-1), DIM )\n",
    "    y = tf.tile( tf.range(-DIM//2,DIM//2),[DIM] )\n",
    "    z = tf.ones([DIM*DIM],dtype='int32')\n",
    "    idx = tf.stack( [x,y,z] )\n",
    "    \n",
    "    # ROTATE DESTINATION PIXELS ONTO ORIGIN PIXELS\n",
    "    idx2 = K.dot(rotation_matrix,tf.cast(idx,dtype='float32'))\n",
    "    idx2 = K.cast(idx2,dtype='int32')\n",
    "    idx2 = K.clip(idx2,-DIM//2+XDIM+1,DIM//2)\n",
    "    \n",
    "    # FIND ORIGIN PIXEL VALUES \n",
    "    idx3 = tf.stack( [DIM//2-idx2[0,], DIM//2-1+idx2[1,]] )\n",
    "    d = tf.gather_nd(image, tf.transpose(idx3))\n",
    "        \n",
    "    return tf.reshape(d,[DIM,DIM,3])\n",
    "\n",
    "def transform_shear(image, height, shear):\n",
    "    # input image - is one image of size [dim,dim,3] not a batch of [b,dim,dim,3]\n",
    "    # output - image randomly sheared\n",
    "    DIM = height\n",
    "    XDIM = DIM%2 #fix for size 331\n",
    "    \n",
    "    shear = shear * tf.random.uniform([1],dtype='float32')\n",
    "    shear = math.pi * shear / 180.\n",
    "        \n",
    "    # SHEAR MATRIX\n",
    "    one = tf.constant([1],dtype='float32')\n",
    "    zero = tf.constant([0],dtype='float32')\n",
    "    c2 = tf.math.cos(shear)\n",
    "    s2 = tf.math.sin(shear)\n",
    "    shear_matrix = tf.reshape(tf.concat([one,s2,zero, zero,c2,zero, zero,zero,one],axis=0),[3,3])    \n",
    "\n",
    "    # LIST DESTINATION PIXEL INDICES\n",
    "    x = tf.repeat( tf.range(DIM//2,-DIM//2,-1), DIM )\n",
    "    y = tf.tile( tf.range(-DIM//2,DIM//2),[DIM] )\n",
    "    z = tf.ones([DIM*DIM],dtype='int32')\n",
    "    idx = tf.stack( [x,y,z] )\n",
    "    \n",
    "    # ROTATE DESTINATION PIXELS ONTO ORIGIN PIXELS\n",
    "    idx2 = K.dot(shear_matrix,tf.cast(idx,dtype='float32'))\n",
    "    idx2 = K.cast(idx2,dtype='int32')\n",
    "    idx2 = K.clip(idx2,-DIM//2+XDIM+1,DIM//2)\n",
    "    \n",
    "    # FIND ORIGIN PIXEL VALUES \n",
    "    idx3 = tf.stack( [DIM//2-idx2[0,], DIM//2-1+idx2[1,]] )\n",
    "    d = tf.gather_nd(image, tf.transpose(idx3))\n",
    "        \n",
    "    return tf.reshape(d,[DIM,DIM,3])\n",
    "\n",
    "# CutOut\n",
    "def data_augment_cutout(image, min_mask_size=(int(HEIGHT * .1), int(HEIGHT * .1)), \n",
    "                        max_mask_size=(int(HEIGHT * .125), int(HEIGHT * .125))):\n",
    "    p_cutout = tf.random.uniform([], 0, 1.0, dtype=tf.float32)\n",
    "    \n",
    "    if p_cutout > .85: # 10~15 cut outs\n",
    "        n_cutout = tf.random.uniform([], 10, 15, dtype=tf.int32)\n",
    "        image = random_cutout(image, HEIGHT, WIDTH, \n",
    "                              min_mask_size=min_mask_size, max_mask_size=max_mask_size, k=n_cutout)\n",
    "    elif p_cutout > .6: # 5~10 cut outs\n",
    "        n_cutout = tf.random.uniform([], 5, 10, dtype=tf.int32)\n",
    "        image = random_cutout(image, HEIGHT, WIDTH, \n",
    "                              min_mask_size=min_mask_size, max_mask_size=max_mask_size, k=n_cutout)\n",
    "    elif p_cutout > .25: # 2~5 cut outs\n",
    "        n_cutout = tf.random.uniform([], 2, 5, dtype=tf.int32)\n",
    "        image = random_cutout(image, HEIGHT, WIDTH, \n",
    "                              min_mask_size=min_mask_size, max_mask_size=max_mask_size, k=n_cutout)\n",
    "    else: # 1 cut out\n",
    "        image = random_cutout(image, HEIGHT, WIDTH, \n",
    "                              min_mask_size=min_mask_size, max_mask_size=max_mask_size, k=1)\n",
    "\n",
    "    return image\n",
    "\n",
    "def random_cutout(image, height, width, channels=3, min_mask_size=(10, 10), max_mask_size=(80, 80), k=1):\n",
    "    assert height > min_mask_size[0]\n",
    "    assert width > min_mask_size[1]\n",
    "    assert height > max_mask_size[0]\n",
    "    assert width > max_mask_size[1]\n",
    "\n",
    "    for i in range(k):\n",
    "      mask_height = tf.random.uniform(shape=[], minval=min_mask_size[0], maxval=max_mask_size[0], dtype=tf.int32)\n",
    "      mask_width = tf.random.uniform(shape=[], minval=min_mask_size[1], maxval=max_mask_size[1], dtype=tf.int32)\n",
    "\n",
    "      pad_h = height - mask_height\n",
    "      pad_top = tf.random.uniform(shape=[], minval=0, maxval=pad_h, dtype=tf.int32)\n",
    "      pad_bottom = pad_h - pad_top\n",
    "\n",
    "      pad_w = width - mask_width\n",
    "      pad_left = tf.random.uniform(shape=[], minval=0, maxval=pad_w, dtype=tf.int32)\n",
    "      pad_right = pad_w - pad_left\n",
    "\n",
    "      cutout_area = tf.zeros(shape=[mask_height, mask_width, channels], dtype=tf.uint8)\n",
    "\n",
    "      cutout_mask = tf.pad([cutout_area], [[0,0],[pad_top, pad_bottom], [pad_left, pad_right], [0,0]], constant_values=1)\n",
    "      cutout_mask = tf.squeeze(cutout_mask, axis=0)\n",
    "      image = tf.multiply(tf.cast(image, tf.float32), tf.cast(cutout_mask, tf.float32))\n",
    "\n",
    "    return image"
   ]
  },
  {
   "cell_type": "markdown",
   "metadata": {
    "papermill": {
     "duration": 0.033234,
     "end_time": "2021-01-08T12:17:33.713442",
     "exception": false,
     "start_time": "2021-01-08T12:17:33.680208",
     "status": "completed"
    },
    "tags": []
   },
   "source": [
    "### 6. Load Data Functions to now bring in our train, test data etc into variables and stuff"
   ]
  },
  {
   "cell_type": "markdown",
   "metadata": {
    "papermill": {
     "duration": 0.033228,
     "end_time": "2021-01-08T12:17:33.780115",
     "exception": false,
     "start_time": "2021-01-08T12:17:33.746887",
     "status": "completed"
    },
    "tags": []
   },
   "source": [
    "The following loads the training data. Remember the files we split recently into train files and others stuff files. So it will give the ```TRAINING_FILENAMES``` to the load_dataset function we created earlier with ```labelled = True``` as we know our training filenames are obviously gonna have labels.\n",
    "Next ```dataset = dataset.map(data_augment, num_parallel_calls=AUTOTUNE) ``` is applying our data_augment function to our dataset which we created earlier.\n",
    "Then  we shuffle. Then we are breaking our dataset into batches we defined then we are finally returning our dataset"
   ]
  },
  {
   "cell_type": "code",
   "execution_count": 11,
   "metadata": {
    "execution": {
     "iopub.execute_input": "2021-01-08T12:17:33.850304Z",
     "iopub.status.busy": "2021-01-08T12:17:33.849618Z",
     "iopub.status.idle": "2021-01-08T12:17:33.856576Z",
     "shell.execute_reply": "2021-01-08T12:17:33.856019Z"
    },
    "papermill": {
     "duration": 0.042944,
     "end_time": "2021-01-08T12:17:33.856691",
     "exception": false,
     "start_time": "2021-01-08T12:17:33.813747",
     "status": "completed"
    },
    "tags": []
   },
   "outputs": [],
   "source": [
    "def get_data():\n",
    "    dataset = load_dataset(TRAINING_FILENAMES, labeled=True)  \n",
    "    dataset = dataset.map(data_augment, num_parallel_calls=AUTOTUNE)  \n",
    "    dataset = dataset.repeat()\n",
    "    dataset = dataset.shuffle(2048)\n",
    "    dataset = dataset.batch(BATCH_SIZE)\n",
    "    dataset = dataset.prefetch(AUTOTUNE)\n",
    "    return dataset"
   ]
  },
  {
   "cell_type": "markdown",
   "metadata": {
    "papermill": {
     "duration": 0.034048,
     "end_time": "2021-01-08T12:17:33.924715",
     "exception": false,
     "start_time": "2021-01-08T12:17:33.890667",
     "status": "completed"
    },
    "tags": []
   },
   "source": [
    "This loads our validation data breaks it into batches and returns it to us."
   ]
  },
  {
   "cell_type": "code",
   "execution_count": 12,
   "metadata": {
    "execution": {
     "iopub.execute_input": "2021-01-08T12:17:33.995562Z",
     "iopub.status.busy": "2021-01-08T12:17:33.994504Z",
     "iopub.status.idle": "2021-01-08T12:17:34.001545Z",
     "shell.execute_reply": "2021-01-08T12:17:34.000955Z"
    },
    "papermill": {
     "duration": 0.043716,
     "end_time": "2021-01-08T12:17:34.001668",
     "exception": false,
     "start_time": "2021-01-08T12:17:33.957952",
     "status": "completed"
    },
    "tags": []
   },
   "outputs": [],
   "source": [
    "def get_validation_dataset(ordered=False):\n",
    "    dataset = load_dataset(VALID_FILENAMES, labeled=True, ordered=ordered) \n",
    "    dataset = dataset.batch(BATCH_SIZE)\n",
    "    dataset = dataset.cache()\n",
    "    dataset = dataset.prefetch(AUTOTUNE)\n",
    "    return dataset"
   ]
  },
  {
   "cell_type": "markdown",
   "metadata": {
    "papermill": {
     "duration": 0.034831,
     "end_time": "2021-01-08T12:17:34.070364",
     "exception": false,
     "start_time": "2021-01-08T12:17:34.035533",
     "status": "completed"
    },
    "tags": []
   },
   "source": [
    "# 3. Explore the data"
   ]
  },
  {
   "cell_type": "markdown",
   "metadata": {
    "papermill": {
     "duration": 0.033934,
     "end_time": "2021-01-08T12:17:34.138651",
     "exception": false,
     "start_time": "2021-01-08T12:17:34.104717",
     "status": "completed"
    },
    "tags": []
   },
   "source": [
    "The following cells are just to count the data."
   ]
  },
  {
   "cell_type": "code",
   "execution_count": 13,
   "metadata": {
    "execution": {
     "iopub.execute_input": "2021-01-08T12:17:34.213489Z",
     "iopub.status.busy": "2021-01-08T12:17:34.212790Z",
     "iopub.status.idle": "2021-01-08T12:17:34.216277Z",
     "shell.execute_reply": "2021-01-08T12:17:34.215579Z"
    },
    "papermill": {
     "duration": 0.043494,
     "end_time": "2021-01-08T12:17:34.216394",
     "exception": false,
     "start_time": "2021-01-08T12:17:34.172900",
     "status": "completed"
    },
    "tags": []
   },
   "outputs": [],
   "source": [
    "import re\n",
    "\n",
    "def count_data_items(filenames):\n",
    "    n = [int(re.compile(r\"-([0-9]*)\\.\").search(filename).group(1)) for filename in filenames]\n",
    "    return np.sum(n)"
   ]
  },
  {
   "cell_type": "code",
   "execution_count": 14,
   "metadata": {
    "execution": {
     "iopub.execute_input": "2021-01-08T12:17:34.290169Z",
     "iopub.status.busy": "2021-01-08T12:17:34.289124Z",
     "iopub.status.idle": "2021-01-08T12:17:34.638506Z",
     "shell.execute_reply": "2021-01-08T12:17:34.639092Z"
    },
    "papermill": {
     "duration": 0.388478,
     "end_time": "2021-01-08T12:17:34.639236",
     "exception": false,
     "start_time": "2021-01-08T12:17:34.250758",
     "status": "completed"
    },
    "tags": []
   },
   "outputs": [
    {
     "ename": "NameError",
     "evalue": "name 'TRAINING_FILENAMES' is not defined",
     "output_type": "error",
     "traceback": [
      "\u001b[0;31m---------------------------------------------------------------------------\u001b[0m",
      "\u001b[0;31mNameError\u001b[0m                                 Traceback (most recent call last)",
      "\u001b[0;32m<ipython-input-14-318e261753d5>\u001b[0m in \u001b[0;36m<module>\u001b[0;34m\u001b[0m\n\u001b[0;32m----> 1\u001b[0;31m \u001b[0mNUM_TRAINING_IMAGES\u001b[0m \u001b[0;34m=\u001b[0m \u001b[0mcount_data_items\u001b[0m\u001b[0;34m(\u001b[0m\u001b[0mTRAINING_FILENAMES\u001b[0m\u001b[0;34m)\u001b[0m\u001b[0;34m\u001b[0m\u001b[0;34m\u001b[0m\u001b[0m\n\u001b[0m\u001b[1;32m      2\u001b[0m \u001b[0mNUM_VALIDATION_IMAGES\u001b[0m \u001b[0;34m=\u001b[0m \u001b[0mcount_data_items\u001b[0m\u001b[0;34m(\u001b[0m\u001b[0mVALID_FILENAMES\u001b[0m\u001b[0;34m)\u001b[0m\u001b[0;34m\u001b[0m\u001b[0;34m\u001b[0m\u001b[0m\n\u001b[1;32m      3\u001b[0m \u001b[0mNUM_TEST_IMAGES\u001b[0m \u001b[0;34m=\u001b[0m \u001b[0mcount_data_items\u001b[0m\u001b[0;34m(\u001b[0m\u001b[0mTEST_FILENAMES\u001b[0m\u001b[0;34m)\u001b[0m\u001b[0;34m\u001b[0m\u001b[0;34m\u001b[0m\u001b[0m\n\u001b[1;32m      4\u001b[0m \u001b[0;34m\u001b[0m\u001b[0m\n\u001b[1;32m      5\u001b[0m print('Dataset: {} training images, {} validation images, {} (unlabeled) test images'.format(\n",
      "\u001b[0;31mNameError\u001b[0m: name 'TRAINING_FILENAMES' is not defined"
     ]
    }
   ],
   "source": [
    "NUM_TRAINING_IMAGES = count_data_items(TRAINING_FILENAMES)\n",
    "NUM_VALIDATION_IMAGES = count_data_items(VALID_FILENAMES)\n",
    "NUM_TEST_IMAGES = count_data_items(TEST_FILENAMES)\n",
    "\n",
    "print('Dataset: {} training images, {} validation images, {} (unlabeled) test images'.format(\n",
    "    NUM_TRAINING_IMAGES, NUM_VALIDATION_IMAGES, NUM_TEST_IMAGES))"
   ]
  },
  {
   "cell_type": "markdown",
   "metadata": {
    "papermill": {
     "duration": 0.034711,
     "end_time": "2021-01-08T12:17:34.708959",
     "exception": false,
     "start_time": "2021-01-08T12:17:34.674248",
     "status": "completed"
    },
    "tags": []
   },
   "source": [
    "Look at a few images\n",
    "The following are not at all an important piece of code."
   ]
  },
  {
   "cell_type": "code",
   "execution_count": 15,
   "metadata": {
    "_kg_hide-input": true,
    "_kg_hide-output": true,
    "execution": {
     "iopub.execute_input": "2021-01-08T12:17:34.783897Z",
     "iopub.status.busy": "2021-01-08T12:17:34.782757Z",
     "iopub.status.idle": "2021-01-08T12:17:34.811065Z",
     "shell.execute_reply": "2021-01-08T12:17:34.810398Z"
    },
    "papermill": {
     "duration": 0.067419,
     "end_time": "2021-01-08T12:17:34.811193",
     "exception": false,
     "start_time": "2021-01-08T12:17:34.743774",
     "status": "completed"
    },
    "tags": []
   },
   "outputs": [],
   "source": [
    "# numpy and matplotlib defaults\n",
    "np.set_printoptions(threshold=15, linewidth=80)\n",
    "\n",
    "def batch_to_numpy_images_and_labels(data):\n",
    "    images, labels = data\n",
    "    numpy_images = images.numpy()\n",
    "    numpy_labels = labels.numpy()\n",
    "    if numpy_labels.dtype == object: # binary string in this case, these are image ID strings\n",
    "        numpy_labels = [None for _ in enumerate(numpy_images)]\n",
    "    # If no labels, only image IDs, return None for labels (this is the case for test data)\n",
    "    return numpy_images, numpy_labels\n",
    "\n",
    "def title_from_label_and_target(label, correct_label):\n",
    "    if correct_label is None:\n",
    "        return CLASSES[label], True\n",
    "    correct = (label == correct_label)\n",
    "    return \"{} [{}{}{}]\".format(CLASSES[label], 'OK' if correct else 'NO', u\"\\u2192\" if not correct else '',\n",
    "                                CLASSES[correct_label] if not correct else ''), correct\n",
    "\n",
    "def display_one_plant(image, title, subplot, red=False, titlesize=16):\n",
    "    plt.subplot(*subplot)\n",
    "    plt.axis('off')\n",
    "    plt.imshow(image)\n",
    "    if len(title) > 0:\n",
    "        plt.title(title, fontsize=int(titlesize) if not red else int(titlesize/1.2), color='red' if red else 'black', fontdict={'verticalalignment':'center'}, pad=int(titlesize/1.5))\n",
    "    return (subplot[0], subplot[1], subplot[2]+1)\n",
    "\n",
    "def display_batch_of_images(databatch, predictions=None):\n",
    "    \"\"\"This will work with:\n",
    "    display_batch_of_images(images)\n",
    "    display_batch_of_images(images, predictions)\n",
    "    display_batch_of_images((images, labels))\n",
    "    display_batch_of_images((images, labels), predictions)\n",
    "    \"\"\"\n",
    "    # data\n",
    "    images, labels = batch_to_numpy_images_and_labels(databatch)\n",
    "    if labels is None:\n",
    "        labels = [None for _ in enumerate(images)]\n",
    "        \n",
    "    # auto-squaring: this will drop data that does not fit into square or square-ish rectangle\n",
    "    rows = int(math.sqrt(len(images)))\n",
    "    cols = len(images)//rows\n",
    "        \n",
    "    # size and spacing\n",
    "    FIGSIZE = 13.0\n",
    "    SPACING = 0.1\n",
    "    subplot=(rows,cols,1)\n",
    "    if rows < cols:\n",
    "        plt.figure(figsize=(FIGSIZE,FIGSIZE/cols*rows))\n",
    "    else:\n",
    "        plt.figure(figsize=(FIGSIZE/rows*cols,FIGSIZE))\n",
    "    \n",
    "    # display\n",
    "    for i, (image, label) in enumerate(zip(images[:rows*cols], labels[:rows*cols])):\n",
    "        title = '' if label is None else CLASSES[label]\n",
    "        correct = True\n",
    "        if predictions is not None:\n",
    "            title, correct = title_from_label_and_target(predictions[i], label)\n",
    "        dynamic_titlesize = FIGSIZE*SPACING/max(rows,cols)*40+3 # magic formula tested to work from 1x1 to 10x10 images\n",
    "        subplot = display_one_plant(image, title, subplot, not correct, titlesize=dynamic_titlesize)\n",
    "    \n",
    "    #layout\n",
    "    plt.tight_layout()\n",
    "    if label is None and predictions is None:\n",
    "        plt.subplots_adjust(wspace=0, hspace=0)\n",
    "    else:\n",
    "        plt.subplots_adjust(wspace=SPACING, hspace=SPACING)\n",
    "    plt.show()"
   ]
  },
  {
   "cell_type": "code",
   "execution_count": 16,
   "metadata": {
    "execution": {
     "iopub.execute_input": "2021-01-08T12:17:34.910084Z",
     "iopub.status.busy": "2021-01-08T12:17:34.898213Z",
     "iopub.status.idle": "2021-01-08T12:17:34.915737Z",
     "shell.execute_reply": "2021-01-08T12:17:34.914766Z"
    },
    "papermill": {
     "duration": 0.06912,
     "end_time": "2021-01-08T12:17:34.915886",
     "exception": false,
     "start_time": "2021-01-08T12:17:34.846766",
     "status": "completed"
    },
    "tags": []
   },
   "outputs": [
    {
     "ename": "NameError",
     "evalue": "name 'get_training_dataset' is not defined",
     "output_type": "error",
     "traceback": [
      "\u001b[0;31m---------------------------------------------------------------------------\u001b[0m",
      "\u001b[0;31mNameError\u001b[0m                                 Traceback (most recent call last)",
      "\u001b[0;32m<ipython-input-16-e726d579a1bd>\u001b[0m in \u001b[0;36m<module>\u001b[0;34m\u001b[0m\n\u001b[1;32m      1\u001b[0m \u001b[0;31m# load our training dataset for visualisation\u001b[0m\u001b[0;34m\u001b[0m\u001b[0;34m\u001b[0m\u001b[0;34m\u001b[0m\u001b[0m\n\u001b[0;32m----> 2\u001b[0;31m \u001b[0mtraining_dataset\u001b[0m \u001b[0;34m=\u001b[0m \u001b[0mget_training_dataset\u001b[0m\u001b[0;34m(\u001b[0m\u001b[0;34m)\u001b[0m\u001b[0;34m\u001b[0m\u001b[0;34m\u001b[0m\u001b[0m\n\u001b[0m\u001b[1;32m      3\u001b[0m \u001b[0mtraining_dataset\u001b[0m \u001b[0;34m=\u001b[0m \u001b[0mtraining_dataset\u001b[0m\u001b[0;34m.\u001b[0m\u001b[0munbatch\u001b[0m\u001b[0;34m(\u001b[0m\u001b[0;34m)\u001b[0m\u001b[0;34m.\u001b[0m\u001b[0mbatch\u001b[0m\u001b[0;34m(\u001b[0m\u001b[0;36m10\u001b[0m\u001b[0;34m)\u001b[0m\u001b[0;34m\u001b[0m\u001b[0;34m\u001b[0m\u001b[0m\n\u001b[1;32m      4\u001b[0m \u001b[0mtrain_batch\u001b[0m \u001b[0;34m=\u001b[0m \u001b[0miter\u001b[0m\u001b[0;34m(\u001b[0m\u001b[0mtraining_dataset\u001b[0m\u001b[0;34m)\u001b[0m\u001b[0;34m\u001b[0m\u001b[0;34m\u001b[0m\u001b[0m\n\u001b[1;32m      5\u001b[0m \u001b[0;31m# run this cell again for another randomized set of training images\u001b[0m\u001b[0;34m\u001b[0m\u001b[0;34m\u001b[0m\u001b[0;34m\u001b[0m\u001b[0m\n",
      "\u001b[0;31mNameError\u001b[0m: name 'get_training_dataset' is not defined"
     ]
    }
   ],
   "source": [
    "# load our training dataset for visualisation\n",
    "training_dataset = get_training_dataset()\n",
    "training_dataset = training_dataset.unbatch().batch(10)\n",
    "train_batch = iter(training_dataset)\n",
    "# run this cell again for another randomized set of training images"
   ]
  },
  {
   "cell_type": "code",
   "execution_count": 17,
   "metadata": {
    "execution": {
     "iopub.execute_input": "2021-01-08T12:17:34.997238Z",
     "iopub.status.busy": "2021-01-08T12:17:34.991786Z",
     "iopub.status.idle": "2021-01-08T12:17:35.019897Z",
     "shell.execute_reply": "2021-01-08T12:17:35.019346Z"
    },
    "papermill": {
     "duration": 0.068287,
     "end_time": "2021-01-08T12:17:35.020051",
     "exception": false,
     "start_time": "2021-01-08T12:17:34.951764",
     "status": "completed"
    },
    "tags": []
   },
   "outputs": [
    {
     "ename": "NameError",
     "evalue": "name 'train_batch' is not defined",
     "output_type": "error",
     "traceback": [
      "\u001b[0;31m---------------------------------------------------------------------------\u001b[0m",
      "\u001b[0;31mNameError\u001b[0m                                 Traceback (most recent call last)",
      "\u001b[0;32m<ipython-input-17-e906d7415a74>\u001b[0m in \u001b[0;36m<module>\u001b[0;34m\u001b[0m\n\u001b[0;32m----> 1\u001b[0;31m \u001b[0mdisplay_batch_of_images\u001b[0m\u001b[0;34m(\u001b[0m\u001b[0mnext\u001b[0m\u001b[0;34m(\u001b[0m\u001b[0mtrain_batch\u001b[0m\u001b[0;34m)\u001b[0m\u001b[0;34m)\u001b[0m\u001b[0;34m\u001b[0m\u001b[0;34m\u001b[0m\u001b[0m\n\u001b[0m",
      "\u001b[0;31mNameError\u001b[0m: name 'train_batch' is not defined"
     ]
    }
   ],
   "source": [
    "display_batch_of_images(next(train_batch))"
   ]
  },
  {
   "cell_type": "code",
   "execution_count": 18,
   "metadata": {
    "execution": {
     "iopub.execute_input": "2021-01-08T12:17:35.102251Z",
     "iopub.status.busy": "2021-01-08T12:17:35.096601Z",
     "iopub.status.idle": "2021-01-08T12:17:35.146430Z",
     "shell.execute_reply": "2021-01-08T12:17:35.145695Z"
    },
    "papermill": {
     "duration": 0.090869,
     "end_time": "2021-01-08T12:17:35.146547",
     "exception": false,
     "start_time": "2021-01-08T12:17:35.055678",
     "status": "completed"
    },
    "tags": []
   },
   "outputs": [
    {
     "ename": "NameError",
     "evalue": "name 'VALID_FILENAMES' is not defined",
     "output_type": "error",
     "traceback": [
      "\u001b[0;31m---------------------------------------------------------------------------\u001b[0m",
      "\u001b[0;31mNameError\u001b[0m                                 Traceback (most recent call last)",
      "\u001b[0;32m<ipython-input-18-811c7be4a6d1>\u001b[0m in \u001b[0;36m<module>\u001b[0;34m\u001b[0m\n\u001b[1;32m      1\u001b[0m \u001b[0;31m# load our validation dataset for EDA\u001b[0m\u001b[0;34m\u001b[0m\u001b[0;34m\u001b[0m\u001b[0;34m\u001b[0m\u001b[0m\n\u001b[0;32m----> 2\u001b[0;31m \u001b[0mval_dataset\u001b[0m \u001b[0;34m=\u001b[0m \u001b[0mget_validation_dataset\u001b[0m\u001b[0;34m(\u001b[0m\u001b[0;34m)\u001b[0m\u001b[0;34m\u001b[0m\u001b[0;34m\u001b[0m\u001b[0m\n\u001b[0m\u001b[1;32m      3\u001b[0m \u001b[0mval_dataset\u001b[0m \u001b[0;34m=\u001b[0m \u001b[0mval_dataset\u001b[0m\u001b[0;34m.\u001b[0m\u001b[0munbatch\u001b[0m\u001b[0;34m(\u001b[0m\u001b[0;34m)\u001b[0m\u001b[0;34m.\u001b[0m\u001b[0mbatch\u001b[0m\u001b[0;34m(\u001b[0m\u001b[0;36m10\u001b[0m\u001b[0;34m)\u001b[0m\u001b[0;34m\u001b[0m\u001b[0;34m\u001b[0m\u001b[0m\n\u001b[1;32m      4\u001b[0m \u001b[0mtest_batch\u001b[0m \u001b[0;34m=\u001b[0m \u001b[0miter\u001b[0m\u001b[0;34m(\u001b[0m\u001b[0mval_dataset\u001b[0m\u001b[0;34m)\u001b[0m\u001b[0;34m\u001b[0m\u001b[0;34m\u001b[0m\u001b[0m\n\u001b[1;32m      5\u001b[0m \u001b[0mdisplay_batch_of_images\u001b[0m\u001b[0;34m(\u001b[0m\u001b[0mnext\u001b[0m\u001b[0;34m(\u001b[0m\u001b[0mtest_batch\u001b[0m\u001b[0;34m)\u001b[0m\u001b[0;34m)\u001b[0m\u001b[0;34m\u001b[0m\u001b[0;34m\u001b[0m\u001b[0m\n",
      "\u001b[0;32m<ipython-input-12-0af241f811e4>\u001b[0m in \u001b[0;36mget_validation_dataset\u001b[0;34m(ordered)\u001b[0m\n\u001b[1;32m      1\u001b[0m \u001b[0;32mdef\u001b[0m \u001b[0mget_validation_dataset\u001b[0m\u001b[0;34m(\u001b[0m\u001b[0mordered\u001b[0m\u001b[0;34m=\u001b[0m\u001b[0;32mFalse\u001b[0m\u001b[0;34m)\u001b[0m\u001b[0;34m:\u001b[0m\u001b[0;34m\u001b[0m\u001b[0;34m\u001b[0m\u001b[0m\n\u001b[0;32m----> 2\u001b[0;31m     \u001b[0mdataset\u001b[0m \u001b[0;34m=\u001b[0m \u001b[0mload_dataset\u001b[0m\u001b[0;34m(\u001b[0m\u001b[0mVALID_FILENAMES\u001b[0m\u001b[0;34m,\u001b[0m \u001b[0mlabeled\u001b[0m\u001b[0;34m=\u001b[0m\u001b[0;32mTrue\u001b[0m\u001b[0;34m,\u001b[0m \u001b[0mordered\u001b[0m\u001b[0;34m=\u001b[0m\u001b[0mordered\u001b[0m\u001b[0;34m)\u001b[0m\u001b[0;34m\u001b[0m\u001b[0;34m\u001b[0m\u001b[0m\n\u001b[0m\u001b[1;32m      3\u001b[0m     \u001b[0mdataset\u001b[0m \u001b[0;34m=\u001b[0m \u001b[0mdataset\u001b[0m\u001b[0;34m.\u001b[0m\u001b[0mbatch\u001b[0m\u001b[0;34m(\u001b[0m\u001b[0mBATCH_SIZE\u001b[0m\u001b[0;34m)\u001b[0m\u001b[0;34m\u001b[0m\u001b[0;34m\u001b[0m\u001b[0m\n\u001b[1;32m      4\u001b[0m     \u001b[0mdataset\u001b[0m \u001b[0;34m=\u001b[0m \u001b[0mdataset\u001b[0m\u001b[0;34m.\u001b[0m\u001b[0mcache\u001b[0m\u001b[0;34m(\u001b[0m\u001b[0;34m)\u001b[0m\u001b[0;34m\u001b[0m\u001b[0;34m\u001b[0m\u001b[0m\n\u001b[1;32m      5\u001b[0m     \u001b[0mdataset\u001b[0m \u001b[0;34m=\u001b[0m \u001b[0mdataset\u001b[0m\u001b[0;34m.\u001b[0m\u001b[0mprefetch\u001b[0m\u001b[0;34m(\u001b[0m\u001b[0mAUTOTUNE\u001b[0m\u001b[0;34m)\u001b[0m\u001b[0;34m\u001b[0m\u001b[0;34m\u001b[0m\u001b[0m\n",
      "\u001b[0;31mNameError\u001b[0m: name 'VALID_FILENAMES' is not defined"
     ]
    }
   ],
   "source": [
    "# load our validation dataset for EDA\n",
    "val_dataset = get_validation_dataset()\n",
    "val_dataset = val_dataset.unbatch().batch(10)\n",
    "test_batch = iter(val_dataset)\n",
    "display_batch_of_images(next(test_batch))"
   ]
  },
  {
   "cell_type": "markdown",
   "metadata": {
    "papermill": {
     "duration": 0.036734,
     "end_time": "2021-01-08T12:17:35.220441",
     "exception": false,
     "start_time": "2021-01-08T12:17:35.183707",
     "status": "completed"
    },
    "tags": []
   },
   "source": [
    "# 4. The Training\n",
    "Here are our amazing plans - \n",
    "1. Use kfold crossvalidation. Makes it easy too to use ensemble learning\n",
    "2. Bring in all the good stuff that people are doing \n",
    "3. Use EfficientNetB7, B4, Resnet and try to bring in Resnext\n",
    "\n",
    "### 1. Callbacks - \n",
    "\n",
    "First of we are gonna make a learning rate scheduler callback. Here is what it is gonna do - \n",
    "\n",
    "1. Initial lr is 0.1\n",
    "2. Will store loss in a dict\n",
    "3. On every 10 batch end if loss did not reduce more than by 0.1 we make lr 10 times the present lr. Then after 3 batches check if lr improved by more than 0.1 or not. If it did we multiply present lr with a decay of 0.01. If it did not we bring back the lr which was there by multiplying present lr by 0.1\n",
    "3. If after every 10 batch end if loss does improve we decay the present lr by 0.5\n",
    "\n",
    "We would have liked that but that's much out of my mind how to make that code.\n",
    "So we are going to go simple like this - "
   ]
  },
  {
   "cell_type": "code",
   "execution_count": 19,
   "metadata": {
    "execution": {
     "iopub.execute_input": "2021-01-08T12:17:35.308302Z",
     "iopub.status.busy": "2021-01-08T12:17:35.307544Z",
     "iopub.status.idle": "2021-01-08T12:17:35.489004Z",
     "shell.execute_reply": "2021-01-08T12:17:35.488380Z"
    },
    "papermill": {
     "duration": 0.231398,
     "end_time": "2021-01-08T12:17:35.489123",
     "exception": false,
     "start_time": "2021-01-08T12:17:35.257725",
     "status": "completed"
    },
    "tags": []
   },
   "outputs": [
    {
     "data": {
      "image/png": "[encoded data removed]",
      "text/plain": [
       "<Figure size 576x360 with 1 Axes>"
      ]
     },
     "metadata": {
      "needs_background": "light"
     },
     "output_type": "display_data"
    },
    {
     "data": {
      "text/plain": [
       "<tensorflow.python.keras.callbacks.LearningRateScheduler at 0x7fd2ef7c0d90>"
      ]
     },
     "execution_count": 19,
     "metadata": {},
     "output_type": "execute_result"
    }
   ],
   "source": [
    "def get_lr_callback(batch_size=8, show = False):\n",
    "    lr_start   = 0.000015000\n",
    "    lr_max     = 0.000000250 * strategy.num_replicas_in_sync * batch_size\n",
    "    lr_min     = 0.000001\n",
    "    lr_ramp_ep = 5\n",
    "    lr_sus_ep  = 0\n",
    "    lr_decay   = 0.8\n",
    "   \n",
    "    def lrfn(epoch):\n",
    "        if epoch < lr_ramp_ep:\n",
    "            lr = (lr_max - lr_start) / lr_ramp_ep * epoch + lr_start\n",
    "            \n",
    "        elif epoch < lr_ramp_ep + lr_sus_ep:\n",
    "            lr = lr_max\n",
    "            \n",
    "        else:\n",
    "            lr = (lr_max - lr_min) * lr_decay**(epoch - lr_ramp_ep - lr_sus_ep) + lr_min\n",
    "            \n",
    "        return lr\n",
    "    if show:\n",
    "        plt.figure(figsize = (8, 5))\n",
    "        plt.plot(np.arange(1, 12), [lrfn(x) for x in np.arange(1, 12)], marker = 'o')\n",
    "        plt.xlabel('epoch')\n",
    "        plt.ylabel('learaning_rate');\n",
    "        plt.show()\n",
    "\n",
    "    lr_callback = tf.keras.callbacks.LearningRateScheduler(lrfn, verbose=False)\n",
    "    return lr_callback\n",
    "\n",
    "get_lr_callback(batch_size=BATCH_SIZE, show = True)"
   ]
  },
  {
   "cell_type": "markdown",
   "metadata": {
    "papermill": {
     "duration": 0.03994,
     "end_time": "2021-01-08T12:17:35.569653",
     "exception": false,
     "start_time": "2021-01-08T12:17:35.529713",
     "status": "completed"
    },
    "tags": []
   },
   "source": [
    "Next a model checkpoint. But we won't be needing one as the kerastuner package saves everything for us. Next tensorboard and all other good stuff"
   ]
  },
  {
   "cell_type": "code",
   "execution_count": 20,
   "metadata": {
    "execution": {
     "iopub.execute_input": "2021-01-08T12:17:35.656217Z",
     "iopub.status.busy": "2021-01-08T12:17:35.655478Z",
     "iopub.status.idle": "2021-01-08T12:17:35.659556Z",
     "shell.execute_reply": "2021-01-08T12:17:35.658913Z"
    },
    "papermill": {
     "duration": 0.051202,
     "end_time": "2021-01-08T12:17:35.659676",
     "exception": false,
     "start_time": "2021-01-08T12:17:35.608474",
     "status": "completed"
    },
    "tags": []
   },
   "outputs": [],
   "source": [
    "tensorboard = TensorBoard(log_dir='logs_v0.2/')\n",
    "reducelr = ReduceLROnPlateau(patience=1)\n",
    "earlystop = EarlyStopping(monitor='val_loss', min_delta=0.01, patience = 3, mode = 'min')"
   ]
  },
  {
   "cell_type": "markdown",
   "metadata": {
    "papermill": {
     "duration": 0.038471,
     "end_time": "2021-01-08T12:17:35.737986",
     "exception": false,
     "start_time": "2021-01-08T12:17:35.699515",
     "status": "completed"
    },
    "tags": []
   },
   "source": [
    "### The model architecture - "
   ]
  },
  {
   "cell_type": "code",
   "execution_count": 21,
   "metadata": {
    "execution": {
     "iopub.execute_input": "2021-01-08T12:17:35.825994Z",
     "iopub.status.busy": "2021-01-08T12:17:35.824871Z",
     "iopub.status.idle": "2021-01-08T12:17:35.828715Z",
     "shell.execute_reply": "2021-01-08T12:17:35.828065Z"
    },
    "papermill": {
     "duration": 0.051092,
     "end_time": "2021-01-08T12:17:35.828829",
     "exception": false,
     "start_time": "2021-01-08T12:17:35.777737",
     "status": "completed"
    },
    "tags": []
   },
   "outputs": [],
   "source": [
    "# from keras.utils.vis_utils import plot_model\n",
    "def build_model():\n",
    "    input_shape = (HEIGHT, WIDTH, 3)\n",
    "    N_CLASSES = 5\n",
    "    inputs = Input(shape=input_shape, name='input_image')\n",
    "    base_model = efn.EfficientNetB4(input_tensor=inputs, \n",
    "                                    include_top=False, \n",
    "                                    weights='noisy-student', \n",
    "                                    pooling='avg')\n",
    "    base_model.trainable = False\n",
    "\n",
    "    x = Dropout(.5)(base_model.output)\n",
    "    output = Dense(N_CLASSES, activation='softmax', name='output')(x)\n",
    "    model = Model(inputs=inputs, outputs=output)\n",
    "\n",
    "    return model"
   ]
  },
  {
   "cell_type": "markdown",
   "metadata": {
    "papermill": {
     "duration": 0.039279,
     "end_time": "2021-01-08T12:17:35.907321",
     "exception": false,
     "start_time": "2021-01-08T12:17:35.868042",
     "status": "completed"
    },
    "tags": []
   },
   "source": [
    "seed stuff nothing important - "
   ]
  },
  {
   "cell_type": "code",
   "execution_count": 22,
   "metadata": {
    "execution": {
     "iopub.execute_input": "2021-01-08T12:17:35.992418Z",
     "iopub.status.busy": "2021-01-08T12:17:35.991425Z",
     "iopub.status.idle": "2021-01-08T12:17:35.995040Z",
     "shell.execute_reply": "2021-01-08T12:17:35.994441Z"
    },
    "papermill": {
     "duration": 0.049229,
     "end_time": "2021-01-08T12:17:35.995153",
     "exception": false,
     "start_time": "2021-01-08T12:17:35.945924",
     "status": "completed"
    },
    "tags": []
   },
   "outputs": [],
   "source": [
    "import random\n",
    "def seed_everything(seed=0):\n",
    "    random.seed(seed)\n",
    "    np.random.seed(seed)\n",
    "    tf.random.set_seed(seed)\n",
    "    os.environ['PYTHONHASHSEED'] = str(seed)\n",
    "    os.environ['TF_DETERMINISTIC_OPS'] = '1'\n",
    "\n",
    "seed = 0\n",
    "seed_everything(seed)"
   ]
  },
  {
   "attachments": {
    "image.png": {
     "image/png": "[encoded data removed]"
    }
   },
   "cell_type": "markdown",
   "metadata": {
    "papermill": {
     "duration": 0.038682,
     "end_time": "2021-01-08T12:17:36.073795",
     "exception": false,
     "start_time": "2021-01-08T12:17:36.035113",
     "status": "completed"
    },
    "tags": []
   },
   "source": [
    "## K fold cross validation - \n",
    "Good articles - \n",
    "https://machinelearningmastery.com/out-of-fold-predictions-in-machine-learning/\n",
    "\n",
    "Good Videos - \n",
    "\n",
    "https://www.youtube.com/watch?v=gJo0uNL-5Qw\n",
    "\n",
    "https://www.youtube.com/watch?v=maiQf8ray_s\n",
    "\n",
    "We might be freezing batchnorms of efficientnet. Here is a good answer why - \n",
    "\n",
    "https://stackoverflow.com/questions/63016740/why-its-necessary-to-frozen-all-inner-state-of-a-batch-normalization-layer-when\n",
    "\n",
    "![image.png](attachment:image.png)"
   ]
  },
  {
   "cell_type": "code",
   "execution_count": 23,
   "metadata": {
    "execution": {
     "iopub.execute_input": "2021-01-08T12:17:36.172017Z",
     "iopub.status.busy": "2021-01-08T12:17:36.165753Z",
     "iopub.status.idle": "2021-01-08T12:17:36.182722Z",
     "shell.execute_reply": "2021-01-08T12:17:36.183260Z"
    },
    "papermill": {
     "duration": 0.070682,
     "end_time": "2021-01-08T12:17:36.183430",
     "exception": false,
     "start_time": "2021-01-08T12:17:36.112748",
     "status": "completed"
    },
    "tags": []
   },
   "outputs": [
    {
     "ename": "NameError",
     "evalue": "name 'get_training_dataset' is not defined",
     "output_type": "error",
     "traceback": [
      "\u001b[0;31m---------------------------------------------------------------------------\u001b[0m",
      "\u001b[0;31mNameError\u001b[0m                                 Traceback (most recent call last)",
      "\u001b[0;32m<ipython-input-23-d3e4edbf03c5>\u001b[0m in \u001b[0;36m<module>\u001b[0;34m\u001b[0m\n\u001b[0;32m----> 1\u001b[0;31m \u001b[0mtrain_data\u001b[0m \u001b[0;34m=\u001b[0m \u001b[0mget_training_dataset\u001b[0m\u001b[0;34m(\u001b[0m\u001b[0;34m)\u001b[0m\u001b[0;34m\u001b[0m\u001b[0;34m\u001b[0m\u001b[0m\n\u001b[0m\u001b[1;32m      2\u001b[0m \u001b[0mvalid_data\u001b[0m \u001b[0;34m=\u001b[0m \u001b[0mget_validation_dataset\u001b[0m\u001b[0;34m(\u001b[0m\u001b[0;34m)\u001b[0m\u001b[0;34m\u001b[0m\u001b[0;34m\u001b[0m\u001b[0m\n",
      "\u001b[0;31mNameError\u001b[0m: name 'get_training_dataset' is not defined"
     ]
    }
   ],
   "source": [
    "train_data = get_training_dataset()\n",
    "valid_data = get_validation_dataset()"
   ]
  },
  {
   "cell_type": "code",
   "execution_count": 24,
   "metadata": {
    "execution": {
     "iopub.execute_input": "2021-01-08T12:17:36.290671Z",
     "iopub.status.busy": "2021-01-08T12:17:36.276350Z",
     "iopub.status.idle": "2021-01-08T12:17:36.297533Z",
     "shell.execute_reply": "2021-01-08T12:17:36.296913Z"
    },
    "papermill": {
     "duration": 0.072789,
     "end_time": "2021-01-08T12:17:36.297673",
     "exception": false,
     "start_time": "2021-01-08T12:17:36.224884",
     "status": "completed"
    },
    "tags": []
   },
   "outputs": [
    {
     "ename": "NameError",
     "evalue": "name 'NUM_TRAINING_IMAGES' is not defined",
     "output_type": "error",
     "traceback": [
      "\u001b[0;31m---------------------------------------------------------------------------\u001b[0m",
      "\u001b[0;31mNameError\u001b[0m                                 Traceback (most recent call last)",
      "\u001b[0;32m<ipython-input-24-498df4cab394>\u001b[0m in \u001b[0;36m<module>\u001b[0;34m\u001b[0m\n\u001b[0;32m----> 1\u001b[0;31m \u001b[0mSTEPS_PER_EPOCH\u001b[0m \u001b[0;34m=\u001b[0m \u001b[0mNUM_TRAINING_IMAGES\u001b[0m \u001b[0;34m//\u001b[0m \u001b[0mBATCH_SIZE\u001b[0m\u001b[0;34m\u001b[0m\u001b[0;34m\u001b[0m\u001b[0m\n\u001b[0m\u001b[1;32m      2\u001b[0m \u001b[0mVALID_STEPS\u001b[0m \u001b[0;34m=\u001b[0m \u001b[0mNUM_VALIDATION_IMAGES\u001b[0m \u001b[0;34m//\u001b[0m \u001b[0mBATCH_SIZE\u001b[0m\u001b[0;34m\u001b[0m\u001b[0;34m\u001b[0m\u001b[0m\n",
      "\u001b[0;31mNameError\u001b[0m: name 'NUM_TRAINING_IMAGES' is not defined"
     ]
    }
   ],
   "source": [
    "STEPS_PER_EPOCH = NUM_TRAINING_IMAGES // BATCH_SIZE\n",
    "VALID_STEPS = NUM_VALIDATION_IMAGES // BATCH_SIZE"
   ]
  },
  {
   "cell_type": "code",
   "execution_count": 25,
   "metadata": {
    "execution": {
     "iopub.execute_input": "2021-01-08T12:17:36.405884Z",
     "iopub.status.busy": "2021-01-08T12:17:36.391431Z",
     "iopub.status.idle": "2021-01-08T12:17:36.413060Z",
     "shell.execute_reply": "2021-01-08T12:17:36.412349Z"
    },
    "papermill": {
     "duration": 0.074422,
     "end_time": "2021-01-08T12:17:36.413176",
     "exception": false,
     "start_time": "2021-01-08T12:17:36.338754",
     "status": "completed"
    },
    "tags": []
   },
   "outputs": [
    {
     "ename": "NameError",
     "evalue": "name 'NUM_TRAINING_IMAGES' is not defined",
     "output_type": "error",
     "traceback": [
      "\u001b[0;31m---------------------------------------------------------------------------\u001b[0m",
      "\u001b[0;31mNameError\u001b[0m                                 Traceback (most recent call last)",
      "\u001b[0;32m<ipython-input-25-a18314ae0208>\u001b[0m in \u001b[0;36m<module>\u001b[0;34m\u001b[0m\n\u001b[1;32m      1\u001b[0m \u001b[0mN_FOLDS\u001b[0m \u001b[0;34m=\u001b[0m \u001b[0;36m5\u001b[0m\u001b[0;34m\u001b[0m\u001b[0;34m\u001b[0m\u001b[0m\n\u001b[1;32m      2\u001b[0m \u001b[0mskf\u001b[0m \u001b[0;34m=\u001b[0m \u001b[0mKFold\u001b[0m\u001b[0;34m(\u001b[0m\u001b[0mn_splits\u001b[0m\u001b[0;34m=\u001b[0m\u001b[0mN_FOLDS\u001b[0m\u001b[0;34m,\u001b[0m \u001b[0mshuffle\u001b[0m\u001b[0;34m=\u001b[0m\u001b[0;32mTrue\u001b[0m\u001b[0;34m,\u001b[0m \u001b[0mrandom_state\u001b[0m\u001b[0;34m=\u001b[0m\u001b[0mseed\u001b[0m\u001b[0;34m)\u001b[0m\u001b[0;34m\u001b[0m\u001b[0;34m\u001b[0m\u001b[0m\n\u001b[0;32m----> 3\u001b[0;31m \u001b[0;32mfor\u001b[0m \u001b[0mfold\u001b[0m\u001b[0;34m,\u001b[0m\u001b[0;34m(\u001b[0m\u001b[0mtrain_idx\u001b[0m\u001b[0;34m,\u001b[0m \u001b[0mval_idx\u001b[0m\u001b[0;34m)\u001b[0m \u001b[0;32min\u001b[0m \u001b[0menumerate\u001b[0m\u001b[0;34m(\u001b[0m\u001b[0mskf\u001b[0m\u001b[0;34m.\u001b[0m\u001b[0msplit\u001b[0m\u001b[0;34m(\u001b[0m\u001b[0mlen\u001b[0m\u001b[0;34m(\u001b[0m\u001b[0mNUM_TRAINING_IMAGES\u001b[0m\u001b[0;34m)\u001b[0m\u001b[0;34m)\u001b[0m\u001b[0;34m)\u001b[0m\u001b[0;34m:\u001b[0m\u001b[0;34m\u001b[0m\u001b[0;34m\u001b[0m\u001b[0m\n\u001b[0m\u001b[1;32m      4\u001b[0m     \u001b[0mprint\u001b[0m\u001b[0;34m(\u001b[0m\u001b[0;34m)\u001b[0m\u001b[0;34m\u001b[0m\u001b[0;34m\u001b[0m\u001b[0m\n\u001b[1;32m      5\u001b[0m     \u001b[0mprint\u001b[0m\u001b[0;34m(\u001b[0m\u001b[0;34mf\"FOLD: {fold+1}\"\u001b[0m\u001b[0;34m)\u001b[0m\u001b[0;34m\u001b[0m\u001b[0;34m\u001b[0m\u001b[0m\n",
      "\u001b[0;31mNameError\u001b[0m: name 'NUM_TRAINING_IMAGES' is not defined"
     ]
    }
   ],
   "source": [
    "N_FOLDS = 5\n",
    "skf = KFold(n_splits=N_FOLDS, shuffle=True, random_state=seed)\n",
    "for fold,(train_idx, val_idx) in enumerate(skf.split(len(NUM_TRAINING_IMAGES))):\n",
    "    print()\n",
    "    print(f\"FOLD: {fold+1}\")\n",
    "    print()\n",
    "    print(len(train_idx))\n",
    "    print(len(val_idx))"
   ]
  },
  {
   "cell_type": "code",
   "execution_count": null,
   "metadata": {
    "papermill": {
     "duration": 0.063715,
     "end_time": "2021-01-08T12:17:36.518305",
     "exception": false,
     "start_time": "2021-01-08T12:17:36.454590",
     "status": "completed"
    },
    "tags": []
   },
   "outputs": [],
   "source": []
  }
 ],
 "metadata": {
  "kernelspec": {
   "display_name": "Python 3",
   "language": "python",
   "name": "python3"
  },
  "language_info": {
   "codemirror_mode": {
    "name": "ipython",
    "version": 3
   },
   "file_extension": ".py",
   "mimetype": "text/x-python",
   "name": "python",
   "nbconvert_exporter": "python",
   "pygments_lexer": "ipython3",
   "version": "3.7.6"
  },
  "papermill": {
   "duration": 29.200294,
   "end_time": "2021-01-08T12:17:36.667626",
   "environment_variables": {},
   "exception": null,
   "input_path": "__notebook__.ipynb",
   "output_path": "__notebook__.ipynb",
   "parameters": {},
   "start_time": "2021-01-08T12:17:07.467332",
   "version": "2.1.0"
  }
 },
 "nbformat": 4,
 "nbformat_minor": 4
}
