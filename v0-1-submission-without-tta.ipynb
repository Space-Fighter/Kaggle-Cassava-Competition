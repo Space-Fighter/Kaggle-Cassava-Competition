{
 "cells": [
  {
   "cell_type": "code",
   "execution_count": 1,
   "metadata": {
    "_cell_guid": "b1076dfc-b9ad-4769-8c92-a6c4dae69d19",
    "_uuid": "8f2839f25d086af736a60e9eeb907d3b93b6e0e5",
    "execution": {
     "iopub.execute_input": "2020-12-28T03:37:03.466036Z",
     "iopub.status.busy": "2020-12-28T03:37:03.465201Z",
     "iopub.status.idle": "2020-12-28T03:38:03.776086Z",
     "shell.execute_reply": "2020-12-28T03:38:03.775225Z"
    },
    "papermill": {
     "duration": 60.327768,
     "end_time": "2020-12-28T03:38:03.776212",
     "exception": false,
     "start_time": "2020-12-28T03:37:03.448444",
     "status": "completed"
    },
    "tags": []
   },
   "outputs": [],
   "source": [
    "!pip install --quiet /kaggle/input/kerasapplications\n",
    "!pip install --quiet /kaggle/input/efficientnet-git"
   ]
  },
  {
   "cell_type": "code",
   "execution_count": 2,
   "metadata": {
    "_cell_guid": "79c7e3d0-c299-4dcb-8224-4455121ee9b0",
    "_uuid": "d629ff2d2480ee46fbb7e2d37f6b5fab8052498a",
    "execution": {
     "iopub.execute_input": "2020-12-28T03:38:03.811662Z",
     "iopub.status.busy": "2020-12-28T03:38:03.810939Z",
     "iopub.status.idle": "2020-12-28T03:38:09.426886Z",
     "shell.execute_reply": "2020-12-28T03:38:09.425657Z"
    },
    "papermill": {
     "duration": 5.641362,
     "end_time": "2020-12-28T03:38:09.427014",
     "exception": false,
     "start_time": "2020-12-28T03:38:03.785652",
     "status": "completed"
    },
    "tags": []
   },
   "outputs": [],
   "source": [
    "import pandas as pd\n",
    "import tensorflow as tf\n",
    "from tensorflow.keras import Sequential\n",
    "import cv2\n",
    "from tensorflow.keras.layers import Dense\n",
    "import os\n",
    "import efficientnet.tfkeras as efn\n",
    "import numpy as np"
   ]
  },
  {
   "cell_type": "markdown",
   "metadata": {
    "papermill": {
     "duration": 0.009529,
     "end_time": "2020-12-28T03:38:09.445958",
     "exception": false,
     "start_time": "2020-12-28T03:38:09.436429",
     "status": "completed"
    },
    "tags": []
   },
   "source": [
    "# Loading in model"
   ]
  },
  {
   "cell_type": "code",
   "execution_count": 3,
   "metadata": {
    "execution": {
     "iopub.execute_input": "2020-12-28T03:38:09.470461Z",
     "iopub.status.busy": "2020-12-28T03:38:09.468516Z",
     "iopub.status.idle": "2020-12-28T03:38:09.471207Z",
     "shell.execute_reply": "2020-12-28T03:38:09.471683Z"
    },
    "papermill": {
     "duration": 0.016879,
     "end_time": "2020-12-28T03:38:09.471819",
     "exception": false,
     "start_time": "2020-12-28T03:38:09.454940",
     "status": "completed"
    },
    "tags": []
   },
   "outputs": [],
   "source": [
    "IMG_SIZE = 256"
   ]
  },
  {
   "cell_type": "code",
   "execution_count": 4,
   "metadata": {
    "execution": {
     "iopub.execute_input": "2020-12-28T03:38:09.497337Z",
     "iopub.status.busy": "2020-12-28T03:38:09.496329Z",
     "iopub.status.idle": "2020-12-28T03:38:09.499501Z",
     "shell.execute_reply": "2020-12-28T03:38:09.498916Z"
    },
    "papermill": {
     "duration": 0.018609,
     "end_time": "2020-12-28T03:38:09.499594",
     "exception": false,
     "start_time": "2020-12-28T03:38:09.480985",
     "status": "completed"
    },
    "tags": []
   },
   "outputs": [],
   "source": [
    "def make_model():\n",
    "    model = Sequential()\n",
    "    model.add(efn.EfficientNetB4(include_top = False,\n",
    "                                  weights = None,\n",
    "                                  pooling = 'avg',\n",
    "                                  input_shape = (IMG_SIZE, IMG_SIZE, 3)))\n",
    "    model.add(Dense(5, activation = 'softmax'))\n",
    "    model.layers[0].trainable = True\n",
    "    \n",
    "#     optimizer = Adam(lr = 0.01)\n",
    "#     #tpu_optimizer = tf.experimental.contrib.tpu.CrossShardOptimizer(optimizer)\n",
    "#     model.compile(optimizer=optimizer, \n",
    "#                   loss='categorical_crossentropy', \n",
    "#                   metrics=['accuracy'])\n",
    "    return model"
   ]
  },
  {
   "cell_type": "code",
   "execution_count": 5,
   "metadata": {
    "execution": {
     "iopub.execute_input": "2020-12-28T03:38:09.522330Z",
     "iopub.status.busy": "2020-12-28T03:38:09.521686Z",
     "iopub.status.idle": "2020-12-28T03:38:19.950349Z",
     "shell.execute_reply": "2020-12-28T03:38:19.949165Z"
    },
    "papermill": {
     "duration": 10.44189,
     "end_time": "2020-12-28T03:38:19.950486",
     "exception": false,
     "start_time": "2020-12-28T03:38:09.508596",
     "status": "completed"
    },
    "tags": []
   },
   "outputs": [],
   "source": [
    "model = make_model()\n",
    "model.load_weights('../input/v0-1-cassava-efficientnet-training/EnetB4_top_trainable/best_model.hdf5')"
   ]
  },
  {
   "cell_type": "markdown",
   "metadata": {
    "papermill": {
     "duration": 0.009381,
     "end_time": "2020-12-28T03:38:19.969666",
     "exception": false,
     "start_time": "2020-12-28T03:38:19.960285",
     "status": "completed"
    },
    "tags": []
   },
   "source": [
    "# Looking at the format of submission"
   ]
  },
  {
   "cell_type": "code",
   "execution_count": 6,
   "metadata": {
    "execution": {
     "iopub.execute_input": "2020-12-28T03:38:19.997665Z",
     "iopub.status.busy": "2020-12-28T03:38:19.997093Z",
     "iopub.status.idle": "2020-12-28T03:38:20.019979Z",
     "shell.execute_reply": "2020-12-28T03:38:20.020443Z"
    },
    "papermill": {
     "duration": 0.041609,
     "end_time": "2020-12-28T03:38:20.020555",
     "exception": false,
     "start_time": "2020-12-28T03:38:19.978946",
     "status": "completed"
    },
    "tags": []
   },
   "outputs": [
    {
     "data": {
      "text/html": [
       "<div>\n",
       "<style scoped>\n",
       "    .dataframe tbody tr th:only-of-type {\n",
       "        vertical-align: middle;\n",
       "    }\n",
       "\n",
       "    .dataframe tbody tr th {\n",
       "        vertical-align: top;\n",
       "    }\n",
       "\n",
       "    .dataframe thead th {\n",
       "        text-align: right;\n",
       "    }\n",
       "</style>\n",
       "<table border=\"1\" class=\"dataframe\">\n",
       "  <thead>\n",
       "    <tr style=\"text-align: right;\">\n",
       "      <th></th>\n",
       "      <th>image_id</th>\n",
       "      <th>label</th>\n",
       "    </tr>\n",
       "  </thead>\n",
       "  <tbody>\n",
       "    <tr>\n",
       "      <th>0</th>\n",
       "      <td>2216849948.jpg</td>\n",
       "      <td>4</td>\n",
       "    </tr>\n",
       "  </tbody>\n",
       "</table>\n",
       "</div>"
      ],
      "text/plain": [
       "         image_id  label\n",
       "0  2216849948.jpg      4"
      ]
     },
     "execution_count": 6,
     "metadata": {},
     "output_type": "execute_result"
    }
   ],
   "source": [
    "pd.read_csv('../input/cassava-leaf-disease-classification/sample_submission.csv')"
   ]
  },
  {
   "cell_type": "markdown",
   "metadata": {
    "papermill": {
     "duration": 0.009984,
     "end_time": "2020-12-28T03:38:20.040856",
     "exception": false,
     "start_time": "2020-12-28T03:38:20.030872",
     "status": "completed"
    },
    "tags": []
   },
   "source": [
    "# Making Predictions - "
   ]
  },
  {
   "cell_type": "code",
   "execution_count": 7,
   "metadata": {
    "execution": {
     "iopub.execute_input": "2020-12-28T03:38:20.066355Z",
     "iopub.status.busy": "2020-12-28T03:38:20.065638Z",
     "iopub.status.idle": "2020-12-28T03:38:20.069506Z",
     "shell.execute_reply": "2020-12-28T03:38:20.070035Z"
    },
    "papermill": {
     "duration": 0.019136,
     "end_time": "2020-12-28T03:38:20.070200",
     "exception": false,
     "start_time": "2020-12-28T03:38:20.051064",
     "status": "completed"
    },
    "tags": []
   },
   "outputs": [],
   "source": [
    "sub_dict = {'image_id':[], 'label':[]}"
   ]
  },
  {
   "cell_type": "code",
   "execution_count": 8,
   "metadata": {
    "execution": {
     "iopub.execute_input": "2020-12-28T03:38:20.097518Z",
     "iopub.status.busy": "2020-12-28T03:38:20.096926Z",
     "iopub.status.idle": "2020-12-28T03:38:25.646080Z",
     "shell.execute_reply": "2020-12-28T03:38:25.646897Z"
    },
    "papermill": {
     "duration": 5.566475,
     "end_time": "2020-12-28T03:38:25.647079",
     "exception": false,
     "start_time": "2020-12-28T03:38:20.080604",
     "status": "completed"
    },
    "tags": []
   },
   "outputs": [],
   "source": [
    "test_data_path = '../input/cassava-leaf-disease-classification/test_images/'\n",
    "for img_path in os.listdir(test_data_path):\n",
    "    img = cv2.imread(test_data_path + img_path)\n",
    "    img = cv2.cvtColor(img, cv2.COLOR_BGR2RGB)\n",
    "    img = cv2.resize(img, (IMG_SIZE, IMG_SIZE))\n",
    "    prediction = np.argmax(model.predict([img.reshape(-1, IMG_SIZE, IMG_SIZE, 3)]))\n",
    "    sub_dict['image_id'].append(img_path)\n",
    "    sub_dict['label'].append(prediction)"
   ]
  },
  {
   "cell_type": "code",
   "execution_count": 9,
   "metadata": {
    "execution": {
     "iopub.execute_input": "2020-12-28T03:38:25.697822Z",
     "iopub.status.busy": "2020-12-28T03:38:25.696332Z",
     "iopub.status.idle": "2020-12-28T03:38:25.707079Z",
     "shell.execute_reply": "2020-12-28T03:38:25.706108Z"
    },
    "papermill": {
     "duration": 0.045933,
     "end_time": "2020-12-28T03:38:25.707227",
     "exception": false,
     "start_time": "2020-12-28T03:38:25.661294",
     "status": "completed"
    },
    "tags": []
   },
   "outputs": [
    {
     "data": {
      "text/html": [
       "<div>\n",
       "<style scoped>\n",
       "    .dataframe tbody tr th:only-of-type {\n",
       "        vertical-align: middle;\n",
       "    }\n",
       "\n",
       "    .dataframe tbody tr th {\n",
       "        vertical-align: top;\n",
       "    }\n",
       "\n",
       "    .dataframe thead th {\n",
       "        text-align: right;\n",
       "    }\n",
       "</style>\n",
       "<table border=\"1\" class=\"dataframe\">\n",
       "  <thead>\n",
       "    <tr style=\"text-align: right;\">\n",
       "      <th></th>\n",
       "      <th>image_id</th>\n",
       "      <th>label</th>\n",
       "    </tr>\n",
       "  </thead>\n",
       "  <tbody>\n",
       "    <tr>\n",
       "      <th>0</th>\n",
       "      <td>2216849948.jpg</td>\n",
       "      <td>0</td>\n",
       "    </tr>\n",
       "  </tbody>\n",
       "</table>\n",
       "</div>"
      ],
      "text/plain": [
       "         image_id  label\n",
       "0  2216849948.jpg      0"
      ]
     },
     "execution_count": 9,
     "metadata": {},
     "output_type": "execute_result"
    }
   ],
   "source": [
    "submission_df = pd.DataFrame(sub_dict)\n",
    "submission_df.head()"
   ]
  },
  {
   "cell_type": "code",
   "execution_count": 10,
   "metadata": {
    "execution": {
     "iopub.execute_input": "2020-12-28T03:38:25.734045Z",
     "iopub.status.busy": "2020-12-28T03:38:25.733432Z",
     "iopub.status.idle": "2020-12-28T03:38:25.930238Z",
     "shell.execute_reply": "2020-12-28T03:38:25.929395Z"
    },
    "papermill": {
     "duration": 0.211432,
     "end_time": "2020-12-28T03:38:25.930349",
     "exception": false,
     "start_time": "2020-12-28T03:38:25.718917",
     "status": "completed"
    },
    "tags": []
   },
   "outputs": [],
   "source": [
    "submission_df.to_csv(\"submission.csv\", index=False)"
   ]
  }
 ],
 "metadata": {
  "kernelspec": {
   "display_name": "Python 3",
   "language": "python",
   "name": "python3"
  },
  "language_info": {
   "codemirror_mode": {
    "name": "ipython",
    "version": 3
   },
   "file_extension": ".py",
   "mimetype": "text/x-python",
   "name": "python",
   "nbconvert_exporter": "python",
   "pygments_lexer": "ipython3",
   "version": "3.7.6"
  },
  "papermill": {
   "duration": 88.831017,
   "end_time": "2020-12-28T03:38:27.776811",
   "environment_variables": {},
   "exception": null,
   "input_path": "__notebook__.ipynb",
   "output_path": "__notebook__.ipynb",
   "parameters": {},
   "start_time": "2020-12-28T03:36:58.945794",
   "version": "2.1.0"
  }
 },
 "nbformat": 4,
 "nbformat_minor": 4
}
