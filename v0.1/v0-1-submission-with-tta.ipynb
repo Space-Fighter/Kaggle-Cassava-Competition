{
 "cells": [
  {
   "cell_type": "code",
   "execution_count": 1,
   "metadata": {
    "_cell_guid": "b1076dfc-b9ad-4769-8c92-a6c4dae69d19",
    "_uuid": "8f2839f25d086af736a60e9eeb907d3b93b6e0e5",
    "execution": {
     "iopub.execute_input": "2020-12-29T05:44:38.358248Z",
     "iopub.status.busy": "2020-12-29T05:44:38.357499Z",
     "iopub.status.idle": "2020-12-29T05:45:38.542713Z",
     "shell.execute_reply": "2020-12-29T05:45:38.552017Z"
    },
    "papermill": {
     "duration": 60.212481,
     "end_time": "2020-12-29T05:45:38.552331",
     "exception": false,
     "start_time": "2020-12-29T05:44:38.339850",
     "status": "completed"
    },
    "tags": []
   },
   "outputs": [],
   "source": [
    "!pip install --quiet /kaggle/input/kerasapplications\n",
    "!pip install --quiet /kaggle/input/efficientnet-git"
   ]
  },
  {
   "cell_type": "code",
   "execution_count": 2,
   "metadata": {
    "_cell_guid": "79c7e3d0-c299-4dcb-8224-4455121ee9b0",
    "_uuid": "d629ff2d2480ee46fbb7e2d37f6b5fab8052498a",
    "execution": {
     "iopub.execute_input": "2020-12-29T05:45:38.600584Z",
     "iopub.status.busy": "2020-12-29T05:45:38.599471Z",
     "iopub.status.idle": "2020-12-29T05:45:44.691380Z",
     "shell.execute_reply": "2020-12-29T05:45:44.690382Z"
    },
    "papermill": {
     "duration": 6.119884,
     "end_time": "2020-12-29T05:45:44.691496",
     "exception": false,
     "start_time": "2020-12-29T05:45:38.571612",
     "status": "completed"
    },
    "tags": []
   },
   "outputs": [],
   "source": [
    "import pandas as pd\n",
    "import tensorflow as tf\n",
    "from tensorflow.keras import Sequential\n",
    "import cv2\n",
    "from tensorflow.keras.layers import Dense\n",
    "import os\n",
    "import efficientnet.tfkeras as efn\n",
    "from tqdm import tqdm as tqdm\n",
    "import numpy as np"
   ]
  },
  {
   "cell_type": "markdown",
   "metadata": {
    "papermill": {
     "duration": 0.0096,
     "end_time": "2020-12-29T05:45:44.710399",
     "exception": false,
     "start_time": "2020-12-29T05:45:44.700799",
     "status": "completed"
    },
    "tags": []
   },
   "source": [
    "# Loading in model"
   ]
  },
  {
   "cell_type": "code",
   "execution_count": 3,
   "metadata": {
    "execution": {
     "iopub.execute_input": "2020-12-29T05:45:44.735096Z",
     "iopub.status.busy": "2020-12-29T05:45:44.734448Z",
     "iopub.status.idle": "2020-12-29T05:45:44.737431Z",
     "shell.execute_reply": "2020-12-29T05:45:44.737867Z"
    },
    "papermill": {
     "duration": 0.018345,
     "end_time": "2020-12-29T05:45:44.737982",
     "exception": false,
     "start_time": "2020-12-29T05:45:44.719637",
     "status": "completed"
    },
    "tags": []
   },
   "outputs": [],
   "source": [
    "IMG_SIZE = 256\n",
    "def make_model():\n",
    "    model = Sequential()\n",
    "    model.add(efn.EfficientNetB4(include_top = False,\n",
    "                                  weights = None,\n",
    "                                  pooling = 'avg',\n",
    "                                  input_shape = (IMG_SIZE, IMG_SIZE, 3)))\n",
    "    model.add(Dense(5, activation = 'softmax'))\n",
    "    model.layers[0].trainable = True\n",
    "    \n",
    "#     optimizer = Adam(lr = 0.01)\n",
    "#     #tpu_optimizer = tf.experimental.contrib.tpu.CrossShardOptimizer(optimizer)\n",
    "#     model.compile(optimizer=optimizer, \n",
    "#                   loss='categorical_crossentropy', \n",
    "#                   metrics=['accuracy'])\n",
    "    return model"
   ]
  },
  {
   "cell_type": "code",
   "execution_count": 4,
   "metadata": {
    "execution": {
     "iopub.execute_input": "2020-12-29T05:45:44.760548Z",
     "iopub.status.busy": "2020-12-29T05:45:44.759944Z",
     "iopub.status.idle": "2020-12-29T05:45:55.971064Z",
     "shell.execute_reply": "2020-12-29T05:45:55.969916Z"
    },
    "papermill": {
     "duration": 11.22385,
     "end_time": "2020-12-29T05:45:55.971192",
     "exception": false,
     "start_time": "2020-12-29T05:45:44.747342",
     "status": "completed"
    },
    "tags": []
   },
   "outputs": [],
   "source": [
    "model = make_model()\n",
    "model.load_weights('../input/v0-1-cassava-efficientnet-training/EnetB4_top_trainable/best_model.hdf5')"
   ]
  },
  {
   "cell_type": "markdown",
   "metadata": {
    "papermill": {
     "duration": 0.009725,
     "end_time": "2020-12-29T05:45:55.990898",
     "exception": false,
     "start_time": "2020-12-29T05:45:55.981173",
     "status": "completed"
    },
    "tags": []
   },
   "source": [
    "# Data Augmentation Function - "
   ]
  },
  {
   "cell_type": "code",
   "execution_count": 5,
   "metadata": {
    "execution": {
     "iopub.execute_input": "2020-12-29T05:45:56.022379Z",
     "iopub.status.busy": "2020-12-29T05:45:56.020499Z",
     "iopub.status.idle": "2020-12-29T05:45:56.023016Z",
     "shell.execute_reply": "2020-12-29T05:45:56.023493Z"
    },
    "papermill": {
     "duration": 0.023322,
     "end_time": "2020-12-29T05:45:56.023608",
     "exception": false,
     "start_time": "2020-12-29T05:45:56.000286",
     "status": "completed"
    },
    "tags": []
   },
   "outputs": [],
   "source": [
    "def data_augment(image):\n",
    "    p_spatial = tf.random.uniform([], 0, 1.0, dtype=tf.float32)\n",
    "    p_rotate = tf.random.uniform([], 0, 1.0, dtype=tf.float32)\n",
    "    p_pixel_1 = tf.random.uniform([], 0, 1.0, dtype=tf.float32)\n",
    "            \n",
    "    # Flips\n",
    "    image = tf.image.random_flip_left_right(image)\n",
    "    image = tf.image.random_flip_up_down(image)\n",
    "    if p_spatial > .75:\n",
    "        image = tf.image.transpose(image)\n",
    "        \n",
    "    # Rotates\n",
    "    if p_rotate > .75:\n",
    "        image = tf.image.rot90(image, k=3) # rotate 270º\n",
    "    elif p_rotate > .5:\n",
    "        image = tf.image.rot90(image, k=2) # rotate 180º\n",
    "    elif p_rotate > .25:\n",
    "        image = tf.image.rot90(image, k=1) # rotate 90º\n",
    "        \n",
    "    # Pixel-level transforms\n",
    "\n",
    "    if p_pixel_1 >= .4:\n",
    "        image = tf.image.random_brightness(image, max_delta=.1)\n",
    "            \n",
    "    return image"
   ]
  },
  {
   "cell_type": "markdown",
   "metadata": {
    "papermill": {
     "duration": 0.009085,
     "end_time": "2020-12-29T05:45:56.041893",
     "exception": false,
     "start_time": "2020-12-29T05:45:56.032808",
     "status": "completed"
    },
    "tags": []
   },
   "source": [
    "# Look at the sample submission file"
   ]
  },
  {
   "cell_type": "code",
   "execution_count": 6,
   "metadata": {
    "execution": {
     "iopub.execute_input": "2020-12-29T05:45:56.072534Z",
     "iopub.status.busy": "2020-12-29T05:45:56.071963Z",
     "iopub.status.idle": "2020-12-29T05:45:56.096082Z",
     "shell.execute_reply": "2020-12-29T05:45:56.096602Z"
    },
    "papermill": {
     "duration": 0.045439,
     "end_time": "2020-12-29T05:45:56.096716",
     "exception": false,
     "start_time": "2020-12-29T05:45:56.051277",
     "status": "completed"
    },
    "tags": []
   },
   "outputs": [
    {
     "data": {
      "text/html": [
       "<div>\n",
       "<style scoped>\n",
       "    .dataframe tbody tr th:only-of-type {\n",
       "        vertical-align: middle;\n",
       "    }\n",
       "\n",
       "    .dataframe tbody tr th {\n",
       "        vertical-align: top;\n",
       "    }\n",
       "\n",
       "    .dataframe thead th {\n",
       "        text-align: right;\n",
       "    }\n",
       "</style>\n",
       "<table border=\"1\" class=\"dataframe\">\n",
       "  <thead>\n",
       "    <tr style=\"text-align: right;\">\n",
       "      <th></th>\n",
       "      <th>image_id</th>\n",
       "      <th>label</th>\n",
       "    </tr>\n",
       "  </thead>\n",
       "  <tbody>\n",
       "    <tr>\n",
       "      <th>0</th>\n",
       "      <td>2216849948.jpg</td>\n",
       "      <td>4</td>\n",
       "    </tr>\n",
       "  </tbody>\n",
       "</table>\n",
       "</div>"
      ],
      "text/plain": [
       "         image_id  label\n",
       "0  2216849948.jpg      4"
      ]
     },
     "execution_count": 6,
     "metadata": {},
     "output_type": "execute_result"
    }
   ],
   "source": [
    "pd.read_csv('../input/cassava-leaf-disease-classification/sample_submission.csv')"
   ]
  },
  {
   "cell_type": "code",
   "execution_count": 7,
   "metadata": {
    "execution": {
     "iopub.execute_input": "2020-12-29T05:45:56.120554Z",
     "iopub.status.busy": "2020-12-29T05:45:56.119950Z",
     "iopub.status.idle": "2020-12-29T05:45:56.123698Z",
     "shell.execute_reply": "2020-12-29T05:45:56.124139Z"
    },
    "papermill": {
     "duration": 0.017491,
     "end_time": "2020-12-29T05:45:56.124267",
     "exception": false,
     "start_time": "2020-12-29T05:45:56.106776",
     "status": "completed"
    },
    "tags": []
   },
   "outputs": [],
   "source": [
    "sub_dict = {'image_id':[], 'label':[]}"
   ]
  },
  {
   "cell_type": "code",
   "execution_count": 8,
   "metadata": {
    "execution": {
     "iopub.execute_input": "2020-12-29T05:45:56.151162Z",
     "iopub.status.busy": "2020-12-29T05:45:56.150600Z",
     "iopub.status.idle": "2020-12-29T05:46:01.953025Z",
     "shell.execute_reply": "2020-12-29T05:46:01.952103Z"
    },
    "papermill": {
     "duration": 5.819017,
     "end_time": "2020-12-29T05:46:01.953134",
     "exception": false,
     "start_time": "2020-12-29T05:45:56.134117",
     "status": "completed"
    },
    "tags": []
   },
   "outputs": [
    {
     "name": "stderr",
     "output_type": "stream",
     "text": [
      "100%|██████████| 1/1 [00:05<00:00,  5.78s/it]\n"
     ]
    }
   ],
   "source": [
    "test_data_path = '../input/cassava-leaf-disease-classification/test_images/'\n",
    "for img_path in tqdm(os.listdir(test_data_path)):\n",
    "    img = cv2.imread(test_data_path + img_path)\n",
    "    img = cv2.cvtColor(img, cv2.COLOR_BGR2RGB)\n",
    "    img = cv2.resize(img, (IMG_SIZE, IMG_SIZE))\n",
    "    img = np.array(data_augment(img))\n",
    "    prediction = np.argmax(model.predict([img.reshape(-1, IMG_SIZE, IMG_SIZE, 3)]))\n",
    "    sub_dict['image_id'].append(img_path)\n",
    "    sub_dict['label'].append(prediction)\n",
    "    "
   ]
  },
  {
   "cell_type": "code",
   "execution_count": 9,
   "metadata": {
    "execution": {
     "iopub.execute_input": "2020-12-29T05:46:01.988575Z",
     "iopub.status.busy": "2020-12-29T05:46:01.987889Z",
     "iopub.status.idle": "2020-12-29T05:46:01.993776Z",
     "shell.execute_reply": "2020-12-29T05:46:01.994268Z"
    },
    "papermill": {
     "duration": 0.029256,
     "end_time": "2020-12-29T05:46:01.994407",
     "exception": false,
     "start_time": "2020-12-29T05:46:01.965151",
     "status": "completed"
    },
    "tags": []
   },
   "outputs": [
    {
     "data": {
      "text/html": [
       "<div>\n",
       "<style scoped>\n",
       "    .dataframe tbody tr th:only-of-type {\n",
       "        vertical-align: middle;\n",
       "    }\n",
       "\n",
       "    .dataframe tbody tr th {\n",
       "        vertical-align: top;\n",
       "    }\n",
       "\n",
       "    .dataframe thead th {\n",
       "        text-align: right;\n",
       "    }\n",
       "</style>\n",
       "<table border=\"1\" class=\"dataframe\">\n",
       "  <thead>\n",
       "    <tr style=\"text-align: right;\">\n",
       "      <th></th>\n",
       "      <th>image_id</th>\n",
       "      <th>label</th>\n",
       "    </tr>\n",
       "  </thead>\n",
       "  <tbody>\n",
       "    <tr>\n",
       "      <th>0</th>\n",
       "      <td>2216849948.jpg</td>\n",
       "      <td>0</td>\n",
       "    </tr>\n",
       "  </tbody>\n",
       "</table>\n",
       "</div>"
      ],
      "text/plain": [
       "         image_id  label\n",
       "0  2216849948.jpg      0"
      ]
     },
     "execution_count": 9,
     "metadata": {},
     "output_type": "execute_result"
    }
   ],
   "source": [
    "submission_df = pd.DataFrame(sub_dict)\n",
    "submission_df.head()"
   ]
  },
  {
   "cell_type": "code",
   "execution_count": 10,
   "metadata": {
    "execution": {
     "iopub.execute_input": "2020-12-29T05:46:02.023645Z",
     "iopub.status.busy": "2020-12-29T05:46:02.022913Z",
     "iopub.status.idle": "2020-12-29T05:46:02.223144Z",
     "shell.execute_reply": "2020-12-29T05:46:02.221540Z"
    },
    "papermill": {
     "duration": 0.216398,
     "end_time": "2020-12-29T05:46:02.223293",
     "exception": false,
     "start_time": "2020-12-29T05:46:02.006895",
     "status": "completed"
    },
    "tags": []
   },
   "outputs": [],
   "source": [
    "submission_df.to_csv(\"submission.csv\", index=False)"
   ]
  }
 ],
 "metadata": {
  "kernelspec": {
   "display_name": "Python 3",
   "language": "python",
   "name": "python3"
  },
  "language_info": {
   "codemirror_mode": {
    "name": "ipython",
    "version": 3
   },
   "file_extension": ".py",
   "mimetype": "text/x-python",
   "name": "python",
   "nbconvert_exporter": "python",
   "pygments_lexer": "ipython3",
   "version": "3.7.6"
  },
  "papermill": {
   "duration": 89.898026,
   "end_time": "2020-12-29T05:46:03.667169",
   "environment_variables": {},
   "exception": null,
   "input_path": "__notebook__.ipynb",
   "output_path": "__notebook__.ipynb",
   "parameters": {},
   "start_time": "2020-12-29T05:44:33.769143",
   "version": "2.1.0"
  }
 },
 "nbformat": 4,
 "nbformat_minor": 4
}
